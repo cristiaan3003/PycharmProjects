{
 "cells": [
  {
   "cell_type": "code",
   "execution_count": 28,
   "metadata": {
    "collapsed": false,
    "deletable": true,
    "editable": true
   },
   "outputs": [],
   "source": [
    "%matplotlib inline\n",
    "\n",
    "import numpy as np\n",
    "from itertools import cycle\n",
    "import matplotlib.pyplot as plt\n",
    "import pandas\n",
    "\n",
    "from sklearn import svm\n",
    "from sklearn import datasets\n",
    "from sklearn import preprocessing\n",
    "\n",
    "from sklearn import model_selection # <---- PARTICIONADO\n",
    "\n",
    "from sklearn import metrics\n"
   ]
  },
  {
   "cell_type": "markdown",
   "metadata": {
    "deletable": true,
    "editable": true
   },
   "source": [
    "La función a continuación levanta todos los datos en la carpeta indicada (ej. \"clases/\") y los almacena en un diccionario, donde las claves corresponden a la clase en cuestión."
   ]
  },
  {
   "cell_type": "code",
   "execution_count": 29,
   "metadata": {
    "collapsed": true,
    "deletable": true,
    "editable": true
   },
   "outputs": [],
   "source": [
    "def read_csv_files(folder, Nfeatures=102):\n",
    "    '''\n",
    "    Load all the \"CSV\" files in a folder, and store each one in a dictionary.\n",
    "    '''\n",
    "    \n",
    "    #filenames = glob.glob(rel_path + '*.csv')\n",
    "    \n",
    "    clase = dict()\n",
    "    \n",
    "    for n in range(0,24):\n",
    "        \n",
    "      clase[n] = pandas.read_csv(folder +'clase' + str(n) + '.csv', sep=',',header=None, names=['f'+str(m) for m in range(0,Nfeatures)])\n",
    "#        clase[n+1] = np.array(pandas.read_csv(folder +'clase' + str(n+1) + '.csv', sep=',',header=None, names=['f'+str(m) for m in range(0,Nfeatures)]))\n",
    "    return clase"
   ]
  },
  {
   "cell_type": "markdown",
   "metadata": {
    "deletable": true,
    "editable": true
   },
   "source": [
    "Levanto los datos de los cromosomas almacenados en la carpeta \"clases/\""
   ]
  },
  {
   "cell_type": "code",
   "execution_count": 30,
   "metadata": {
    "collapsed": false,
    "deletable": true,
    "editable": true,
    "scrolled": false
   },
   "outputs": [
    {
     "name": "stdout",
     "output_type": "stream",
     "text": [
      "            f0        f1        f2        f3        f4        f5        f6  \\\n",
      "0     0.715849  1.000000  1.000000  0.865031  0.815951  0.588957  0.515337   \n",
      "1     0.570053  0.887097  0.862319  0.782609  0.695652  0.623188  0.442029   \n",
      "2     1.000000  1.000000  1.000000  0.854015  0.729927  0.591241  0.496350   \n",
      "3     0.961303  0.900000  0.968254  1.000000  0.833333  0.777778  0.706349   \n",
      "4     1.000000  1.000000  1.000000  0.904762  0.825397  0.698413  0.595238   \n",
      "5     0.566158  0.946565  1.000000  0.934307  0.868613  0.795620  0.583942   \n",
      "6     0.538017  0.918699  1.000000  0.815287  0.764331  0.656051  0.496815   \n",
      "7     1.000000  1.000000  1.000000  1.000000  0.784615  0.607692  0.584615   \n",
      "8     0.849269  1.000000  0.852941  0.705882  0.617647  0.582353  0.552941   \n",
      "9     0.502250  1.000000  1.000000  0.939189  0.810811  0.722973  0.702703   \n",
      "10    0.595556  0.989583  1.000000  0.910053  0.867725  0.798942  0.756614   \n",
      "11    0.423030  0.947917  1.000000  0.803030  0.727273  0.704545  0.681818   \n",
      "12    0.946919  1.000000  1.000000  1.000000  0.751938  0.674419  0.612403   \n",
      "13    0.823697  0.943182  1.000000  0.814516  0.717742  0.653226  0.564516   \n",
      "14    0.694636  0.954545  1.000000  1.000000  0.849673  0.738562  0.614379   \n",
      "15    0.699947  1.000000  1.000000  0.911111  0.807407  0.688889  0.548148   \n",
      "16    0.607202  1.000000  1.000000  0.904459  0.834395  0.713376  0.585987   \n",
      "17    0.656510  0.858333  1.000000  0.849315  0.719178  0.650685  0.650685   \n",
      "18    1.000000  1.000000  1.000000  0.852174  0.773913  0.652174  0.600000   \n",
      "19    0.312214  0.806723  0.881356  0.881356  0.677966  0.644068  0.711864   \n",
      "20    0.475648  1.000000  0.923529  0.870588  0.841176  1.000000  0.952941   \n",
      "21    0.460296  0.964286  1.000000  0.852349  0.684564  0.536913  0.489933   \n",
      "22    0.700184  0.913462  1.000000  0.897436  0.846154  0.769231  0.752137   \n",
      "23    0.558770  1.000000  1.000000  1.000000  0.858268  0.755906  0.787402   \n",
      "24    0.868764  0.819149  1.000000  0.806452  0.806452  0.685484  0.629032   \n",
      "25    0.959870  1.000000  1.000000  0.901099  0.675824  0.637363  0.571429   \n",
      "26    1.000000  0.990000  1.000000  0.867925  0.779874  0.716981  0.660377   \n",
      "27    0.578454  1.000000  1.000000  0.954545  0.846591  0.784091  0.715909   \n",
      "28    0.446698  0.900990  1.000000  0.852113  0.718310  0.669014  0.669014   \n",
      "29    1.000000  1.000000  1.000000  0.850746  0.791045  0.686567  0.574627   \n",
      "...        ...       ...       ...       ...       ...       ...       ...   \n",
      "1100  1.000000  1.000000  0.611111  0.436508  0.420635  0.412698  0.603175   \n",
      "1101  0.890837  0.898438  1.000000  0.921260  0.748031  0.590551  0.440945   \n",
      "1102  0.551512  0.951456  1.000000  0.864662  0.766917  0.751880  0.729323   \n",
      "1103  0.517486  1.000000  1.000000  0.948905  0.883212  0.788321  0.737226   \n",
      "1104  1.000000  1.000000  1.000000  1.000000  0.787234  0.709220  0.680851   \n",
      "1105  0.897302  0.957447  1.000000  0.936620  0.732394  0.619718  0.619718   \n",
      "1106  0.969027  0.954023  1.000000  0.803571  0.758929  0.660714  0.598214   \n",
      "1107  1.000000  1.000000  1.000000  0.893939  0.772727  0.681818  0.606061   \n",
      "1108  0.719265  0.627660  1.000000  0.927711  0.855422  0.819277  0.843373   \n",
      "1109  0.610111  1.000000  0.916667  0.916667  0.744792  0.645833  0.661458   \n",
      "1110  1.000000  0.936170  1.000000  0.921687  0.837349  0.680723  0.614458   \n",
      "1111  0.773268  0.971631  1.000000  0.951220  0.869919  0.756098  0.764228   \n",
      "1112  0.916236  1.000000  1.000000  0.938931  0.748092  0.641221  0.603053   \n",
      "1113  0.957601  0.901235  1.000000  0.836207  0.836207  0.706897  0.750000   \n",
      "1114  1.000000  0.960396  1.000000  0.907975  0.889571  0.809816  0.736196   \n",
      "1115  0.639729  1.000000  1.000000  0.896970  0.824242  0.781818  0.757576   \n",
      "1116  0.736605  0.989691  1.000000  1.000000  0.715385  0.646154  0.576923   \n",
      "1117  0.928893  1.000000  1.000000  0.951049  0.888112  0.818182  0.790210   \n",
      "1118  0.585161  0.875000  1.000000  0.965812  0.854701  0.777778  0.692308   \n",
      "1119  0.643226  0.977273  1.000000  0.825581  0.848837  0.813953  0.895349   \n",
      "1120  1.000000  0.956989  0.856250  1.000000  0.718750  0.506250  0.425000   \n",
      "1121  0.796671  1.000000  1.000000  0.762712  0.686441  0.618644  0.694915   \n",
      "1122  1.000000  0.946809  1.000000  0.845528  0.804878  0.682927  0.520325   \n",
      "1123  0.715724  0.936170  1.000000  1.000000  0.795276  0.645669  0.519685   \n",
      "1124  0.676126  0.968421  0.947368  0.885965  0.859649  0.842105  1.000000   \n",
      "1125  1.000000  0.915789  1.000000  1.000000  0.784722  0.604167  0.486111   \n",
      "1126  1.000000  1.000000  1.000000  0.905660  0.823899  0.735849  0.597484   \n",
      "1127  0.532338  1.000000  1.000000  0.895833  0.833333  0.805556  0.708333   \n",
      "1128  0.598827  0.881890  1.000000  0.837838  0.770270  0.702703  0.655405   \n",
      "1129  1.000000  1.000000  1.000000  0.897590  0.789157  0.644578  0.644578   \n",
      "\n",
      "            f7        f8        f9    ...          f92       f93       f94  \\\n",
      "0     0.466258  0.453988  0.466258    ...     0.134969  0.220859  0.361963   \n",
      "1     0.355072  0.289855  0.268116    ...     0.318841  0.333333  0.398551   \n",
      "2     0.386861  0.328467  0.306569    ...     0.328467  0.401460  0.416058   \n",
      "3     0.650794  0.611111  0.595238    ...     0.341270  0.404762  0.500000   \n",
      "4     0.460317  0.380952  0.460317    ...     0.357143  0.507937  0.515873   \n",
      "5     0.489051  0.496350  0.532847    ...     0.416058  0.496350  0.467153   \n",
      "6     0.426752  0.452229  0.458599    ...     0.560510  0.585987  0.585987   \n",
      "7     0.569231  0.615385  0.638462    ...     0.153846  0.292308  0.376923   \n",
      "8     0.547059  0.541176  0.558824    ...     0.564706  0.529412  0.494118   \n",
      "9     0.668919  0.668919  0.689189    ...     0.472973  0.581081  0.608108   \n",
      "10    0.703704  0.693122  0.671958    ...     0.492063  0.529101  0.513228   \n",
      "11    0.651515  0.628788  0.666667    ...     0.409091  0.598485  0.568182   \n",
      "12    0.620155  0.596899  0.589147    ...     0.418605  0.496124  0.480620   \n",
      "13    0.500000  0.564516  0.548387    ...     0.258065  0.266129  0.306452   \n",
      "14    0.673203  0.725490  0.758170    ...     0.477124  0.601307  0.640523   \n",
      "15    0.311111  0.237037  0.185185    ...     0.355556  0.703704  0.777778   \n",
      "16    0.566879  0.585987  0.605096    ...     0.216561  0.299363  0.503185   \n",
      "17    0.636986  0.643836  0.643836    ...     0.369863  0.458904  0.465753   \n",
      "18    0.660870  0.678261  0.582609    ...     0.617391  0.530435  0.556522   \n",
      "19    0.737288  0.754237  0.805085    ...     0.415254  0.627119  0.788136   \n",
      "20    0.776471  0.700000  0.588235    ...     0.347059  0.441176  0.488235   \n",
      "21    0.442953  0.536913  0.563758    ...     0.315436  0.315436  0.389262   \n",
      "22    0.726496  0.760684  0.769231    ...     0.452991  0.555556  0.598291   \n",
      "23    0.677165  0.598425  0.543307    ...     0.456693  0.488189  0.519685   \n",
      "24    0.629032  0.620968  0.612903    ...     0.395161  0.483871  0.491935   \n",
      "25    0.554945  0.543956  0.538462    ...     0.571429  0.659341  0.708791   \n",
      "26    0.635220  0.622642  0.610063    ...     0.383648  0.402516  0.433962   \n",
      "27    0.698864  0.664773  0.653409    ...     0.443182  0.579545  0.647727   \n",
      "28    0.626761  0.591549  0.549296    ...     0.281690  0.401408  0.570423   \n",
      "29    0.455224  0.462687  0.447761    ...     0.485075  0.567164  0.567164   \n",
      "...        ...       ...       ...    ...          ...       ...       ...   \n",
      "1100  0.666667  0.619048  0.690476    ...     0.515873  0.563492  0.650794   \n",
      "1101  0.385827  0.393701  0.464567    ...     0.196850  0.314961  0.519685   \n",
      "1102  0.699248  0.684211  0.646617    ...     0.315789  0.548872  0.631579   \n",
      "1103  0.591241  0.576642  0.562044    ...     0.671533  0.700730  0.700730   \n",
      "1104  0.609929  0.560284  0.510638    ...     0.226950  0.234043  0.248227   \n",
      "1105  0.556338  0.514085  0.485915    ...     0.316901  0.338028  0.323944   \n",
      "1106  0.607143  0.544643  0.553571    ...     0.294643  0.312500  0.357143   \n",
      "1107  0.568182  0.553030  0.560606    ...     0.439394  0.454545  0.439394   \n",
      "1108  0.837349  0.843373  0.837349    ...     0.500000  0.602410  0.644578   \n",
      "1109  0.661458  0.630208  0.645833    ...     0.083333  0.109375  0.125000   \n",
      "1110  0.530120  0.542169  0.500000    ...     0.379518  0.481928  0.548193   \n",
      "1111  0.772358  0.764228  0.739837    ...     0.292683  0.544715  0.617886   \n",
      "1112  0.526718  0.541985  0.557252    ...     0.290076  0.511450  0.618321   \n",
      "1113  0.750000  0.681034  0.637931    ...     0.275862  0.439655  0.577586   \n",
      "1114  0.668712  0.595092  0.607362    ...     0.392638  0.496933  0.509202   \n",
      "1115  0.727273  0.715152  0.721212    ...     0.460606  0.490909  0.515152   \n",
      "1116  0.546154  0.492308  0.500000    ...     0.615385  0.676923  0.723077   \n",
      "1117  0.748252  0.713287  0.734266    ...     0.314685  0.461538  0.573427   \n",
      "1118  0.623932  0.606838  0.589744    ...     0.367521  0.487179  0.495726   \n",
      "1119  0.930233  0.941860  0.918605    ...     0.255814  0.569767  0.732558   \n",
      "1120  0.393750  0.362500  0.337500    ...     0.275000  0.337500  0.337500   \n",
      "1121  0.728814  0.694915  0.601695    ...     0.127119  0.398305  0.398305   \n",
      "1122  0.560976  0.487805  0.447154    ...     0.349593  0.560976  0.560976   \n",
      "1123  0.519685  0.551181  0.629921    ...     0.480315  0.566929  0.582677   \n",
      "1124  0.894737  0.824561  0.807018    ...     0.438596  0.456140  0.464912   \n",
      "1125  0.409722  0.375000  0.340278    ...     0.444444  0.583333  0.659722   \n",
      "1126  0.559748  0.534591  0.534591    ...     0.509434  0.515723  0.534591   \n",
      "1127  0.694444  0.708333  0.673611    ...     0.527778  0.611111  0.666667   \n",
      "1128  0.689189  0.682432  0.601351    ...     0.709459  0.709459  0.716216   \n",
      "1129  0.614458  0.674699  0.668675    ...     0.506024  0.542169  0.554217   \n",
      "\n",
      "           f95       f96       f97       f98       f99      f100      f101  \n",
      "0     0.355828  0.312883  0.263804  0.233129  0.306748  0.447853  0.638037  \n",
      "1     0.333333  0.253623  0.137681  0.159420  0.333333  0.847826  1.000000  \n",
      "2     0.408759  0.437956  0.430657  0.430657  0.467153  0.518248  0.693431  \n",
      "3     0.500000  0.500000  0.436508  0.428571  0.587302  0.595238  0.698413  \n",
      "4     0.444444  0.357143  0.253968  0.333333  0.539683  0.730159  0.968254  \n",
      "5     0.474453  0.364964  0.386861  0.364964  0.306569  0.357664  0.343066  \n",
      "6     0.547771  0.490446  0.458599  0.471338  0.541401  0.700637  0.834395  \n",
      "7     0.569231  0.569231  0.461538  0.361538  0.338462  0.430769  0.761538  \n",
      "8     0.458824  0.411765  0.552941  0.935294  0.441176  1.000000  0.470588  \n",
      "9     0.614865  0.581081  0.554054  0.479730  0.479730  0.493243  0.527027  \n",
      "10    0.502646  0.470899  0.439153  0.417989  0.439153  0.439153  0.597884  \n",
      "11    0.401515  0.469697  0.492424  0.613636  0.696970  0.643939  0.674242  \n",
      "12    0.472868  0.465116  0.472868  0.465116  0.441860  0.511628  0.635659  \n",
      "13    0.354839  0.250000  0.290323  0.290323  0.258065  0.403226  0.451613  \n",
      "14    0.692810  0.581699  0.503268  0.398693  0.379085  0.516340  0.640523  \n",
      "15    0.814815  0.725926  0.622222  0.562963  0.562963  0.622222  0.762963  \n",
      "16    0.535032  0.522293  0.471338  0.382166  0.394904  0.515924  0.605096  \n",
      "17    0.465753  0.424658  0.397260  0.438356  0.630137  0.746575  0.883562  \n",
      "18    0.600000  0.600000  0.573913  0.513043  0.539130  0.626087  0.756522  \n",
      "19    0.847458  0.788136  0.627119  0.491525  0.389831  0.305085  0.338983  \n",
      "20    0.464706  0.488235  0.394118  0.364706  0.400000  0.464706  0.529412  \n",
      "21    0.402685  0.315436  0.315436  0.281879  0.302013  0.442953  0.624161  \n",
      "22    0.598291  0.547009  0.418803  0.435897  0.418803  0.452991  0.632479  \n",
      "23    0.488189  0.448819  0.614173  0.732283  0.582677  0.496063  0.637795  \n",
      "24    0.516129  0.483871  0.443548  0.475806  0.661290  0.862903  0.975806  \n",
      "25    0.703297  0.681319  0.648352  0.637363  0.659341  0.692308  0.802198  \n",
      "26    0.402516  0.364780  0.276730  0.427673  0.427673  0.553459  0.761006  \n",
      "27    0.676136  0.710227  0.698864  0.619318  0.573864  0.630682  0.676136  \n",
      "28    0.598592  0.556338  0.514085  0.429577  0.373239  0.394366  0.485915  \n",
      "29    0.582090  0.574627  0.559701  0.582090  0.634328  0.738806  0.820896  \n",
      "...        ...       ...       ...       ...       ...       ...       ...  \n",
      "1100  0.666667  0.531746  0.396825  0.301587  0.285714  0.650794  1.000000  \n",
      "1101  0.519685  0.496063  0.377953  0.330709  0.267717  0.559055  0.826772  \n",
      "1102  0.669173  0.661654  0.639098  0.571429  0.541353  0.511278  0.586466  \n",
      "1103  0.525547  0.437956  0.401460  0.401460  0.554745  0.766423  0.905109  \n",
      "1104  0.269504  0.283688  0.333333  0.397163  0.439716  0.539007  0.652482  \n",
      "1105  0.380282  0.380282  0.352113  0.274648  0.309859  0.443662  0.633803  \n",
      "1106  0.312500  0.205357  0.214286  0.205357  0.267857  0.383929  0.625000  \n",
      "1107  0.386364  0.348485  0.303030  0.287879  0.333333  0.424242  0.643939  \n",
      "1108  0.632530  0.590361  0.536145  0.433735  0.409639  0.367470  0.463855  \n",
      "1109  0.119792  0.177083  0.281250  0.307292  0.276042  0.223958  0.223958  \n",
      "1110  0.542169  0.457831  0.271084  0.240964  0.222892  0.319277  0.716867  \n",
      "1111  0.626016  0.528455  0.455285  0.252033  0.276423  0.382114  0.739837  \n",
      "1112  0.717557  0.702290  0.549618  0.503817  0.526718  0.557252  0.633588  \n",
      "1113  0.637931  0.594828  0.500000  0.224138  0.189655  0.258621  0.508621  \n",
      "1114  0.490798  0.453988  0.423313  0.337423  0.343558  0.368098  0.423313  \n",
      "1115  0.478788  0.484848  0.484848  0.484848  0.472727  0.557576  0.672727  \n",
      "1116  0.730769  0.707692  0.669231  0.576923  0.546154  0.592308  0.676923  \n",
      "1117  0.615385  0.580420  0.559441  0.433566  0.475524  0.538462  0.748252  \n",
      "1118  0.461538  0.410256  0.341880  0.247863  0.230769  0.256410  0.504274  \n",
      "1119  0.802326  0.779070  0.697674  0.558140  0.383721  0.383721  0.406977  \n",
      "1120  0.250000  0.275000  0.256250  0.206250  0.306250  0.450000  0.487500  \n",
      "1121  0.389831  0.338983  0.279661  0.237288  0.279661  0.406780  0.669492  \n",
      "1122  0.479675  0.430894  0.308943  0.317073  0.447154  0.609756  0.837398  \n",
      "1123  0.574803  0.472441  0.370079  0.338583  0.259843  0.338583  0.527559  \n",
      "1124  0.447368  0.403509  0.263158  0.219298  0.236842  0.429825  0.394737  \n",
      "1125  0.638889  0.583333  0.520833  0.500000  0.548611  0.611111  0.840278  \n",
      "1126  0.528302  0.471698  0.352201  0.377358  0.440252  0.679245  0.817610  \n",
      "1127  0.687500  0.618056  0.520833  0.465278  0.500000  0.604167  0.715278  \n",
      "1128  0.655405  0.635135  0.554054  0.554054  0.581081  0.675676  0.763514  \n",
      "1129  0.554217  0.518072  0.493976  0.451807  0.481928  0.620482  0.903614  \n",
      "\n",
      "[1130 rows x 102 columns]\n",
      "(1128, 102)\n",
      "(1128, 102)\n"
     ]
    }
   ],
   "source": [
    "\n",
    "clase = read_csv_files('clases/')\n",
    "\n",
    "print(clase[0])\n",
    "\n",
    "\n",
    "print(clase[1].shape)\n",
    "print(clase[2].shape)\n"
   ]
  },
  {
   "cell_type": "markdown",
   "metadata": {
    "deletable": true,
    "editable": true
   },
   "source": [
    "Genero el dataset que usaré para los experimentos. Para este ejemplo, voy a usar los cromosomas de la clase 1 y 2 solamente. Se podría extender para usar más cromosomas."
   ]
  },
  {
   "cell_type": "code",
   "execution_count": 31,
   "metadata": {
    "collapsed": false,
    "deletable": true,
    "editable": true
   },
   "outputs": [],
   "source": [
    "clases_a_usar = [0,1,2,3,4,5,6,7,8,9,10,11,12,13,14,15,16,17,18,19,20,21,22,23]\n",
    "\n",
    "X = []\n",
    "Y = []\n",
    "\n",
    "for idx in clases_a_usar:\n",
    "    \n",
    "    x = np.array(clase[idx]).tolist()\n",
    "    y = idx * np.ones((clase[idx].shape[0]))\n",
    "    y = y.tolist()\n",
    "    \n",
    "    X.extend(x)\n",
    "    Y.extend(y)\n",
    "\n",
    "#print(X[0])\n",
    "#print(X[-1])\n",
    "#print(Y[0])\n",
    "#print(Y[-1])"
   ]
  },
  {
   "cell_type": "markdown",
   "metadata": {
    "deletable": true,
    "editable": true
   },
   "source": [
    "**NOTA**: Es má fácil manipular listas de número en lugar de arreglos numpy. Scikit-learn acepta tanto arreglos de numpy como listas de python."
   ]
  },
  {
   "cell_type": "markdown",
   "metadata": {
    "deletable": true,
    "editable": true
   },
   "source": [
    "<h2>Particionado de los datos</h2>"
   ]
  },
  {
   "cell_type": "code",
   "execution_count": 32,
   "metadata": {
    "collapsed": false,
    "deletable": true,
    "editable": true,
    "scrolled": true
   },
   "outputs": [
    {
     "name": "stdout",
     "output_type": "stream",
     "text": [
      "-----------\n",
      "TRAIN DATA\n",
      "[ 13.  11.  19. ...,   8.   9.   2.]\n",
      "-----------\n",
      "TEST DATA\n",
      "[ 12.  12.  13. ...,   3.  20.   3.]\n"
     ]
    }
   ],
   "source": [
    "# TRAIN: 80% -- TEST: 20%\n",
    "#X_train, X_test, Y_train, Y_test = cross_validation.train_test_split(X,Y,test_size=0.4,random_state=0)\n",
    "\n",
    "X_train, X_test, Y_train, Y_test = model_selection.train_test_split(X,Y,test_size=0.2,random_state=0)\n",
    "\n",
    "# Ahora si convierto a NUMPY\n",
    "X_train = np.array(X_train)\n",
    "X_test = np.array(X_test)\n",
    "Y_train = np.array(Y_train)\n",
    "Y_test = np.array(Y_test)\n",
    "\n",
    "\n",
    "print('-----------')\n",
    "print('TRAIN DATA')\n",
    "#print(X_train)\n",
    "print(Y_train)\n",
    "\n",
    "print('-----------')\n",
    "print('TEST DATA')\n",
    "#print (X_test)\n",
    "print (Y_test)"
   ]
  },
  {
   "cell_type": "markdown",
   "metadata": {
    "deletable": true,
    "editable": true
   },
   "source": [
    "<h1>Preprocesamiento</h1>"
   ]
  },
  {
   "cell_type": "markdown",
   "metadata": {
    "deletable": true,
    "editable": true
   },
   "source": [
    "<h2>Estandarización</h2>"
   ]
  },
  {
   "cell_type": "code",
   "execution_count": 33,
   "metadata": {
    "collapsed": false,
    "deletable": true,
    "editable": true
   },
   "outputs": [
    {
     "data": {
      "text/plain": [
       "(array([ 3096.,  2673.,  2938.,  2717.,  3184.,  2003.,  1663.,   741.,\n",
       "          568.,  1205.]),\n",
       " array([-1.49972277, -1.11111285, -0.72250292, -0.333893  ,  0.05471692,\n",
       "         0.44332684,  0.83193676,  1.22054668,  1.6091566 ,  1.99776652,\n",
       "         2.38637645]),\n",
       " <a list of 10 Patch objects>)"
      ]
     },
     "execution_count": 33,
     "metadata": {},
     "output_type": "execute_result"
    },
    {
     "data": {
      "image/png": "[encoded data removed]",
      "text/plain": [
       "<matplotlib.figure.Figure at 0x7f447cd22048>"
      ]
     },
     "metadata": {},
     "output_type": "display_data"
    }
   ],
   "source": [
    "scaler = preprocessing.StandardScaler().fit(X_train)                    # Built scaler to normalize values (mean=0.0 and std=1.0)\n",
    "#scaler = preprocessing.MinMaxScaler(feature_range=(0,1)).fit(X_train)  # Built scaler to scale values in range [Xmin,Xmax]\n",
    "#scaler = preprocessing.MaxAbsScaler().fit(X_train)                     # Built scaler to scale values in range [-1,1]\n",
    "\n",
    "# APPLY TRAINED SCALER\n",
    "sX_train = scaler.transform(X_train)\n",
    "\n",
    "sX_test = scaler.transform(X_test)\n",
    "\n",
    "sX_train.mean(axis=0)\n",
    "#sX_train.std(axis=0)\n",
    "\n",
    "plt.subplot(1,2,1)\n",
    "plt.hist(np.array(X_train)[:,1],color='b')\n",
    "\n",
    "plt.subplot(1,2,2)\n",
    "plt.hist(np.array(sX_train)[:,1],color='r')"
   ]
  },
  {
   "cell_type": "markdown",
   "metadata": {
    "deletable": true,
    "editable": true
   },
   "source": [
    "<h2>Normalización de los datos</h2>\n",
    "\n",
    "Revisar: *http://scikit-learn.org/stable/modules/classes.html#module-sklearn.preprocessing*"
   ]
  },
  {
   "cell_type": "code",
   "execution_count": 34,
   "metadata": {
    "collapsed": false,
    "deletable": true,
    "editable": true
   },
   "outputs": [
    {
     "data": {
      "text/plain": [
       "(array([ 3078.,  2691.,  2938.,  2717.,  3184.,  2003.,  1684.,   720.,\n",
       "          568.,  1205.]),\n",
       " array([ 0.        ,  0.00149528,  0.00299055,  0.00448583,  0.0059811 ,\n",
       "         0.00747638,  0.00897166,  0.01046693,  0.01196221,  0.01345749,\n",
       "         0.01495276]),\n",
       " <a list of 10 Patch objects>)"
      ]
     },
     "execution_count": 34,
     "metadata": {},
     "output_type": "execute_result"
    },
    {
     "data": {
      "image/png": "[encoded data removed]",
      "text/plain": [
       "<matplotlib.figure.Figure at 0x7f447ccf50f0>"
      ]
     },
     "metadata": {},
     "output_type": "display_data"
    }
   ],
   "source": [
    "# Previamente estandarizado (cada patrón tiene media=0 y varianza=1)\n",
    "normalizer = preprocessing.Normalizer(norm='l2', copy=True).fit(X_train.T)\n",
    "\n",
    "nX_train = normalizer.transform(X_train.T)\n",
    "nX_test = normalizer.transform(X_test.T)\n",
    "\n",
    "# Traspongo nuevamente\n",
    "nX_train = nX_train.T\n",
    "nX_test = nX_test.T\n",
    "\n",
    "\n",
    "plt.subplot(1,3,1)\n",
    "plt.hist(np.array(X_train)[:,1],color='b')\n",
    "\n",
    "plt.subplot(1,3,2)\n",
    "plt.hist(np.array(sX_train)[:,1],color='r')\n",
    "\n",
    "plt.subplot(1,3,3)\n",
    "plt.hist(np.array(nX_train)[:,1],color='g')"
   ]
  },
  {
   "cell_type": "markdown",
   "metadata": {
    "deletable": true,
    "editable": true
   },
   "source": [
    "<h2>Construcción del clasificador</h2>"
   ]
  },
  {
   "cell_type": "code",
   "execution_count": 35,
   "metadata": {
    "collapsed": false,
    "deletable": true,
    "editable": true
   },
   "outputs": [],
   "source": [
    "clf = svm.SVC(kernel='linear', gamma='auto', C=1, cache_size=500)\n",
    "#clf = svm.SVC(kernel='rbf', gamma=0.1, C=1000, cache_size=500)"
   ]
  },
  {
   "cell_type": "markdown",
   "metadata": {
    "deletable": true,
    "editable": true
   },
   "source": [
    "<h2>Entrenamiento del clasificador</h2>"
   ]
  },
  {
   "cell_type": "code",
   "execution_count": 36,
   "metadata": {
    "collapsed": false,
    "deletable": true,
    "editable": true
   },
   "outputs": [
    {
     "data": {
      "text/plain": [
       "SVC(C=1, cache_size=500, class_weight=None, coef0=0.0,\n",
       "  decision_function_shape=None, degree=3, gamma='auto', kernel='linear',\n",
       "  max_iter=-1, probability=False, random_state=None, shrinking=True,\n",
       "  tol=0.001, verbose=False)"
      ]
     },
     "execution_count": 36,
     "metadata": {},
     "output_type": "execute_result"
    }
   ],
   "source": [
    "#TRAIN = X_train  # --> Datos CRUDOS\n",
    "TRAIN = sX_train # --> Datos ESTANDARIZADOS\n",
    "#TRAIN = nX_train # --> Datos NORMALIZADOS\n",
    "\n",
    "clf.fit(TRAIN, Y_train)"
   ]
  },
  {
   "cell_type": "markdown",
   "metadata": {
    "deletable": true,
    "editable": true
   },
   "source": [
    "<h2>Predicción y medidas de desempeño</h2>"
   ]
  },
  {
   "cell_type": "code",
   "execution_count": 37,
   "metadata": {
    "collapsed": false,
    "deletable": true,
    "editable": true,
    "scrolled": false
   },
   "outputs": [
    {
     "name": "stdout",
     "output_type": "stream",
     "text": [
      "\n",
      "Accuracy: 0.89\n",
      "\n",
      "CONFUSSION MATRIX\n",
      "[[208   7   2   0   0   0   1   0   0   0   0   0   0   0   0   0   0   0\n",
      "    0   0   0   0   0   0]\n",
      " [  4 221   0   1   0   0   0   2   0   0   0   0   0   0   0   0   0   0\n",
      "    0   0   0   0   2   0]\n",
      " [  1   1 206   0   0   3   0   0   0   0   0   0   0   0   0   0   0   0\n",
      "    0   0   0   0   0   0]\n",
      " [  1   0   2 178  16   3   0   1   1   2   0   0   0   0   1   0   0   0\n",
      "    0   0   0   0   2   0]\n",
      " [  0   0   2  18 211   2   1   1   2   0   0   1   0   0   1   0   0   0\n",
      "    0   0   0   0   1   0]\n",
      " [  1   2   4   2   2 206   2   1   2   0   0   1   0   0   1   0   0   0\n",
      "    0   0   0   0   1   0]\n",
      " [  2   2   0   2   1   5 205   3   5   2   0   0   0   0   0   0   0   0\n",
      "    0   0   0   0   0   0]\n",
      " [  0   1   0   0   0   1   1 200  10   3   2   1   2   0   0   0   0   0\n",
      "    0   0   0   0   2   0]\n",
      " [  1   1   2   0   1   1   2   3 191   2   4   1   0   1   1   0   0   0\n",
      "    1   0   0   0   9   0]\n",
      " [  0   0   0   1   0   3   0   3   1 186   1   1   3   0   2   0   0   0\n",
      "    0   0   0   0   1   0]\n",
      " [  0   0   1   1   0   0   2   0   0   2 215   8   0   0   0   0   2   0\n",
      "    0   0   0   0   1   0]\n",
      " [  0   0   0   0   2   4   1   2   7   2   5 214   2   0   1   0   0   0\n",
      "    0   0   0   0   1   0]\n",
      " [  0   0   0   0   0   1   0   4   0   0   1   0 209   2   3   7   0   0\n",
      "    0   0   0   0   0   0]\n",
      " [  0   0   0   0   0   0   0   4   3   3   1   1   8 187  11   0   0   2\n",
      "    0   0   0   0   0   0]\n",
      " [  0   0   0   0   0   0   0   1   1   1   0   0  11   8 204   3   0   4\n",
      "    0   1   0   0   0   0]\n",
      " [  0   0   0   0   0   0   0   0   0   1   0   0   5   4   2 189   9  11\n",
      "    3   5   0   0   0   0]\n",
      " [  0   0   0   1   0   0   0   0   1   0   0   0   2   2   1   9 191   3\n",
      "    0   7   0   0   0   0]\n",
      " [  0   0   0   0   0   0   1   0   0   0   0   0   1   2   4  11   4 195\n",
      "    1   2   1   0   0   2]\n",
      " [  0   0   0   0   0   0   0   0   0   0   0   0   0   1   1   0   1   7\n",
      "  175   4   3  20   0   1]\n",
      " [  0   0   0   0   0   0   0   0   0   0   0   0   0   0   2   6   3   3\n",
      "   13 213   1   9   0   3]\n",
      " [  0   0   0   0   0   0   0   0   0   0   0   0   0   0   0   0   0   1\n",
      "    5   1 216  14   0   2]\n",
      " [  0   0   0   0   0   0   0   0   0   0   0   0   0   0   1   0   1   4\n",
      "   14   8  10 197   0   4]\n",
      " [  1   0   0   0   1   1   2   2  13   1   0   0   2   0   2   0   0   0\n",
      "    0   0   0   0 138   0]\n",
      " [  0   0   0   0   0   0   0   0   1   0   0   0   0   0   0   0   0   2\n",
      "    1   0   4   7   0  47]]\n",
      "\n",
      "\n",
      "Classification report for classifier SVC(C=1, cache_size=500, class_weight=None, coef0=0.0,\n",
      "  decision_function_shape=None, degree=3, gamma='auto', kernel='linear',\n",
      "  max_iter=-1, probability=False, random_state=None, shrinking=True,\n",
      "  tol=0.001, verbose=False):\n",
      "\n",
      "             precision    recall  f1-score   support\n",
      "\n",
      "        0.0       0.95      0.95      0.95       218\n",
      "        1.0       0.94      0.96      0.95       230\n",
      "        2.0       0.94      0.98      0.96       211\n",
      "        3.0       0.87      0.86      0.87       207\n",
      "        4.0       0.90      0.88      0.89       240\n",
      "        5.0       0.90      0.92      0.91       225\n",
      "        6.0       0.94      0.90      0.92       227\n",
      "        7.0       0.88      0.90      0.89       223\n",
      "        8.0       0.80      0.86      0.83       221\n",
      "        9.0       0.91      0.92      0.91       202\n",
      "       10.0       0.94      0.93      0.93       232\n",
      "       11.0       0.94      0.89      0.91       241\n",
      "       12.0       0.85      0.92      0.89       227\n",
      "       13.0       0.90      0.85      0.88       220\n",
      "       14.0       0.86      0.87      0.86       234\n",
      "       15.0       0.84      0.83      0.83       229\n",
      "       16.0       0.91      0.88      0.89       217\n",
      "       17.0       0.84      0.87      0.86       224\n",
      "       18.0       0.82      0.82      0.82       213\n",
      "       19.0       0.88      0.84      0.86       253\n",
      "       20.0       0.92      0.90      0.91       239\n",
      "       21.0       0.80      0.82      0.81       239\n",
      "       22.0       0.87      0.85      0.86       163\n",
      "       23.0       0.80      0.76      0.78        62\n",
      "\n",
      "avg / total       0.89      0.89      0.89      5197\n",
      "\n",
      "\n"
     ]
    }
   ],
   "source": [
    "#TEST = X_test  # --> Datos CRUDOS\n",
    "TEST = sX_test # --> Datos ESTANDARIZADOS\n",
    "#TEST = nX_test # --> Datos NORMALIZADOS\n",
    "\n",
    "#======================\n",
    "# SCORE CALCULATION\n",
    "#======================\n",
    "score = clf.score(TEST, Y_test)\n",
    "\n",
    "print(\"\\nAccuracy: %0.2f\" % (score))\n",
    "\n",
    "\n",
    "\n",
    "#===================\n",
    "# CONFUSSION MATRIX\n",
    "#===================\n",
    "Y_pred = clf.predict(TEST)\n",
    "\n",
    "print('\\nCONFUSSION MATRIX')\n",
    "print(metrics.confusion_matrix(Y_test,Y_pred))\n",
    "\n",
    "\n",
    "#=========\n",
    "# REPORT\n",
    "#=========\n",
    "print(\"\\n\\nClassification report for classifier %s:\\n\\n%s\\n\"\n",
    "      %\n",
    "      (clf, metrics.classification_report(Y_test, Y_pred)))"
   ]
  },
  {
   "cell_type": "markdown",
   "metadata": {},
   "source": [
    "Es interesante ver que en la diagonal de la matriz de confusión están los valores más altos (se confunde relativamente poco el clasificador)."
   ]
  }
 ],
 "metadata": {
  "kernelspec": {
   "display_name": "Python 3",
   "language": "python",
   "name": "python3"
  },
  "language_info": {
   "codemirror_mode": {
    "name": "ipython",
    "version": 3
   },
   "file_extension": ".py",
   "mimetype": "text/x-python",
   "name": "python",
   "nbconvert_exporter": "python",
   "pygments_lexer": "ipython3",
   "version": "3.6.0"
  }
 },
 "nbformat": 4,
 "nbformat_minor": 2
}
