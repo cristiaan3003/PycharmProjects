{
 "cells": [
  {
   "cell_type": "code",
   "execution_count": 11,
   "metadata": {
    "collapsed": false,
    "deletable": true,
    "editable": true
   },
   "outputs": [],
   "source": [
    "%matplotlib inline\n",
    "\n",
    "import numpy as np\n",
    "from itertools import cycle\n",
    "import matplotlib.pyplot as plt\n",
    "import pandas\n",
    "\n",
    "from sklearn import svm\n",
    "from sklearn import datasets\n",
    "from sklearn import preprocessing\n",
    "\n",
    "from sklearn import model_selection # <---- PARTICIONADO\n",
    "\n",
    "from sklearn import metrics\n",
    "from sklearn.metrics import confusion_matrix"
   ]
  },
  {
   "cell_type": "markdown",
   "metadata": {
    "deletable": true,
    "editable": true
   },
   "source": [
    "La función a continuación levanta todos los datos en la carpeta indicada (ej. \"clases/\") y los almacena en un diccionario, donde las claves corresponden a la clase en cuestión."
   ]
  },
  {
   "cell_type": "code",
   "execution_count": 12,
   "metadata": {
    "collapsed": true,
    "deletable": true,
    "editable": true
   },
   "outputs": [],
   "source": [
    "def read_csv_files(folder, Nfeatures=102):\n",
    "    '''\n",
    "    Load all the \"CSV\" files in a folder, and store each one in a dictionary.\n",
    "    '''\n",
    "    \n",
    "    #filenames = glob.glob(rel_path + '*.csv')\n",
    "    \n",
    "    clase = dict()\n",
    "    \n",
    "    for n in range(0,24):\n",
    "        \n",
    "      clase[n] = pandas.read_csv(folder +'clase' + str(n) + '.csv', sep=',',header=None, names=['f'+str(m) for m in range(0,Nfeatures)])\n",
    "#        clase[n+1] = np.array(pandas.read_csv(folder +'clase' + str(n+1) + '.csv', sep=',',header=None, names=['f'+str(m) for m in range(0,Nfeatures)]))\n",
    "    return clase"
   ]
  },
  {
   "cell_type": "markdown",
   "metadata": {
    "deletable": true,
    "editable": true
   },
   "source": [
    "Levanto los datos de los cromosomas almacenados en la carpeta \"clases/\""
   ]
  },
  {
   "cell_type": "code",
   "execution_count": 13,
   "metadata": {
    "collapsed": false,
    "deletable": true,
    "editable": true,
    "scrolled": false
   },
   "outputs": [
    {
     "name": "stdout",
     "output_type": "stream",
     "text": [
      "        f0   f1     f2     f3     f4     f5     f6     f7     f8     f9  \\\n",
      "0     1954  148  254.0  232.0  224.0  187.0  175.0  167.0  165.0  167.0   \n",
      "1     1621  134  202.0  191.0  179.0  169.0  144.0  132.0  123.0  120.0   \n",
      "2     1841  115  233.0  213.0  196.0  177.0  164.0  149.0  141.0  138.0   \n",
      "3     1784  106  197.0  201.0  180.0  173.0  164.0  157.0  152.0  150.0   \n",
      "4     2663  155  235.0  223.0  213.0  197.0  184.0  167.0  157.0  167.0   \n",
      "5     1640  148  233.0  224.0  215.0  205.0  176.0  163.0  164.0  169.0   \n",
      "6     1470  140  241.0  212.0  204.0  187.0  162.0  151.0  155.0  156.0   \n",
      "7     2430  150  207.0  207.0  179.0  156.0  153.0  151.0  157.0  160.0   \n",
      "8     1935  115  217.0  192.0  177.0  171.0  166.0  165.0  164.0  167.0   \n",
      "9     1318  115  205.0  196.0  177.0  164.0  161.0  156.0  156.0  159.0   \n",
      "10    1775  118  242.0  225.0  217.0  204.0  196.0  186.0  184.0  180.0   \n",
      "11    1348  114  202.0  176.0  166.0  163.0  160.0  156.0  153.0  158.0   \n",
      "12    1305  109  206.0  206.0  174.0  164.0  156.0  157.0  154.0  153.0   \n",
      "13    1175  104  203.0  180.0  168.0  160.0  149.0  141.0  149.0  147.0   \n",
      "14    1616  126  218.0  218.0  195.0  178.0  159.0  168.0  176.0  181.0   \n",
      "15    1626  131  205.0  193.0  179.0  163.0  144.0  112.0  102.0   95.0   \n",
      "16    1471  144  224.0  209.0  198.0  179.0  159.0  156.0  159.0  162.0   \n",
      "17    1560  127  232.0  210.0  191.0  181.0  181.0  179.0  180.0  180.0   \n",
      "18    3120  139  220.0  203.0  194.0  180.0  174.0  181.0  183.0  172.0   \n",
      "19    1166  116  189.0  189.0  165.0  161.0  169.0  172.0  174.0  180.0   \n",
      "20    2198  133  232.0  223.0  218.0  245.0  237.0  207.0  194.0  175.0   \n",
      "21    2140  129  235.0  213.0  188.0  166.0  159.0  152.0  166.0  170.0   \n",
      "22    1894  118  198.0  186.0  180.0  171.0  169.0  166.0  170.0  171.0   \n",
      "23    1586  127  196.0  196.0  178.0  165.0  169.0  155.0  145.0  138.0   \n",
      "24    1120   97  199.0  175.0  175.0  160.0  153.0  153.0  152.0  151.0   \n",
      "25    1204  114  206.0  188.0  147.0  140.0  128.0  125.0  123.0  122.0   \n",
      "26    2034  120  226.0  205.0  191.0  181.0  172.0  168.0  166.0  164.0   \n",
      "27    1314  121  211.0  203.0  184.0  173.0  161.0  158.0  152.0  150.0   \n",
      "28    1285  115  201.0  180.0  161.0  154.0  154.0  148.0  143.0  137.0   \n",
      "29    2458  125  230.0  210.0  202.0  188.0  173.0  157.0  158.0  156.0   \n",
      "...    ...  ...    ...    ...    ...    ...    ...    ...    ...    ...   \n",
      "1106  2547  147  166.0  144.0  142.0  141.0  165.0  173.0  167.0  176.0   \n",
      "1107  2298  134  239.0  229.0  207.0  187.0  168.0  161.0  162.0  171.0   \n",
      "1108  1518  122  202.0  184.0  171.0  169.0  166.0  162.0  160.0  155.0   \n",
      "1109  1446  127  205.0  198.0  189.0  176.0  169.0  149.0  147.0  145.0   \n",
      "1110  2404  109  237.0  237.0  207.0  196.0  192.0  182.0  175.0  168.0   \n",
      "1111  2187  105  228.0  219.0  190.0  174.0  174.0  165.0  159.0  155.0   \n",
      "1112  1492  104  208.0  186.0  181.0  170.0  163.0  164.0  157.0  158.0   \n",
      "1113  1527  108  214.0  200.0  184.0  172.0  162.0  157.0  155.0  156.0   \n",
      "1114  2209  140  214.0  202.0  190.0  184.0  188.0  187.0  188.0  187.0   \n",
      "1115  1924  210  228.0  228.0  195.0  176.0  179.0  179.0  173.0  176.0   \n",
      "1116  3193  158  248.0  235.0  221.0  195.0  184.0  170.0  172.0  165.0   \n",
      "1117  2545  163  221.0  215.0  205.0  191.0  192.0  193.0  192.0  189.0   \n",
      "1118  1185  103  225.0  217.0  192.0  178.0  173.0  163.0  165.0  167.0   \n",
      "1119  1225   95  201.0  182.0  182.0  167.0  172.0  172.0  164.0  159.0   \n",
      "1120  1929  120  238.0  223.0  220.0  207.0  195.0  184.0  172.0  174.0   \n",
      "1121  1345  124  231.0  214.0  202.0  195.0  191.0  186.0  184.0  185.0   \n",
      "1122  1835  119  217.0  217.0  180.0  171.0  162.0  158.0  151.0  152.0   \n",
      "1123  2219  120  202.0  195.0  186.0  176.0  172.0  166.0  161.0  164.0   \n",
      "1124  1206  101  217.0  213.0  200.0  191.0  181.0  173.0  171.0  169.0   \n",
      "1125  1296  110  187.0  172.0  174.0  171.0  178.0  181.0  182.0  180.0   \n",
      "1126  1982  106  231.0  254.0  209.0  175.0  162.0  157.0  152.0  148.0   \n",
      "1127  1640  110  221.0  193.0  184.0  176.0  185.0  189.0  185.0  174.0   \n",
      "1128  1567  110  220.0  201.0  196.0  181.0  161.0  166.0  157.0  152.0   \n",
      "1129  1200  109  210.0  210.0  184.0  165.0  149.0  149.0  153.0  163.0   \n",
      "1130  1528  117  198.0  191.0  188.0  186.0  204.0  192.0  184.0  182.0   \n",
      "1131  2053  112  226.0  226.0  195.0  169.0  152.0  141.0  136.0  131.0   \n",
      "1132  3221  138  241.0  226.0  213.0  199.0  177.0  171.0  167.0  167.0   \n",
      "1133  1905  138  222.0  207.0  198.0  194.0  180.0  178.0  180.0  175.0   \n",
      "1134  2079  139  223.0  199.0  189.0  179.0  172.0  177.0  176.0  164.0   \n",
      "1135  3242  154  244.0  227.0  209.0  185.0  185.0  180.0  190.0  189.0   \n",
      "\n",
      "      ...      f92    f93    f94    f95    f96    f97    f98    f99   f100  \\\n",
      "0     ...    113.0  127.0  150.0  149.0  142.0  134.0  129.0  141.0  164.0   \n",
      "1     ...    127.0  129.0  138.0  129.0  118.0  102.0  105.0  129.0  200.0   \n",
      "2     ...    141.0  151.0  153.0  152.0  156.0  155.0  155.0  160.0  167.0   \n",
      "3     ...    118.0  126.0  138.0  138.0  138.0  130.0  129.0  149.0  150.0   \n",
      "4     ...    154.0  173.0  174.0  165.0  154.0  141.0  151.0  177.0  201.0   \n",
      "5     ...    153.0  164.0  160.0  161.0  146.0  149.0  146.0  138.0  145.0   \n",
      "6     ...    172.0  176.0  176.0  170.0  161.0  156.0  158.0  169.0  194.0   \n",
      "7     ...     97.0  115.0  126.0  151.0  151.0  137.0  124.0  121.0  133.0   \n",
      "8     ...    168.0  162.0  156.0  150.0  142.0  166.0  231.0  147.0  242.0   \n",
      "9     ...    127.0  143.0  147.0  148.0  143.0  139.0  128.0  128.0  130.0   \n",
      "10    ...    146.0  153.0  150.0  148.0  142.0  136.0  132.0  136.0  136.0   \n",
      "11    ...    124.0  149.0  145.0  123.0  132.0  135.0  151.0  162.0  155.0   \n",
      "12    ...    131.0  141.0  139.0  138.0  137.0  138.0  137.0  134.0  143.0   \n",
      "13    ...    111.0  112.0  117.0  123.0  110.0  115.0  115.0  111.0  129.0   \n",
      "14    ...    138.0  157.0  163.0  171.0  154.0  142.0  126.0  123.0  144.0   \n",
      "15    ...    118.0  165.0  175.0  180.0  168.0  154.0  146.0  146.0  154.0   \n",
      "16    ...    101.0  114.0  146.0  151.0  149.0  141.0  127.0  129.0  148.0   \n",
      "17    ...    140.0  153.0  154.0  154.0  148.0  144.0  150.0  178.0  195.0   \n",
      "18    ...    176.0  166.0  169.0  174.0  174.0  171.0  164.0  167.0  177.0   \n",
      "19    ...    134.0  159.0  178.0  185.0  178.0  159.0  143.0  131.0  121.0   \n",
      "20    ...    134.0  150.0  158.0  154.0  158.0  142.0  137.0  143.0  154.0   \n",
      "21    ...    133.0  133.0  144.0  146.0  133.0  133.0  128.0  131.0  152.0   \n",
      "22    ...    134.0  146.0  151.0  151.0  145.0  130.0  132.0  130.0  134.0   \n",
      "23    ...    127.0  131.0  135.0  131.0  126.0  147.0  162.0  143.0  132.0   \n",
      "24    ...    124.0  135.0  136.0  139.0  135.0  130.0  134.0  157.0  182.0   \n",
      "25    ...    128.0  144.0  153.0  152.0  148.0  142.0  140.0  144.0  150.0   \n",
      "26    ...    128.0  131.0  136.0  131.0  125.0  111.0  135.0  135.0  155.0   \n",
      "27    ...    113.0  137.0  149.0  154.0  160.0  158.0  144.0  136.0  146.0   \n",
      "28    ...     99.0  116.0  140.0  144.0  138.0  132.0  120.0  112.0  115.0   \n",
      "29    ...    161.0  172.0  172.0  174.0  173.0  171.0  174.0  181.0  195.0   \n",
      "...   ...      ...    ...    ...    ...    ...    ...    ...    ...    ...   \n",
      "1106  ...    154.0  160.0  171.0  173.0  156.0  139.0  127.0  125.0  171.0   \n",
      "1107  ...    137.0  152.0  178.0  178.0  175.0  160.0  154.0  146.0  183.0   \n",
      "1108  ...    111.0  142.0  153.0  158.0  157.0  154.0  145.0  141.0  137.0   \n",
      "1109  ...    160.0  164.0  164.0  140.0  128.0  123.0  123.0  144.0  173.0   \n",
      "1110  ...    128.0  129.0  131.0  134.0  136.0  143.0  152.0  158.0  172.0   \n",
      "1111  ...    131.0  134.0  132.0  140.0  140.0  136.0  125.0  130.0  149.0   \n",
      "1112  ...    129.0  131.0  136.0  131.0  119.0  120.0  119.0  126.0  139.0   \n",
      "1113  ...    140.0  142.0  140.0  133.0  128.0  122.0  120.0  126.0  138.0   \n",
      "1114  ...    131.0  148.0  155.0  153.0  146.0  137.0  120.0  116.0  109.0   \n",
      "1115  ...     68.0   73.0   76.0   75.0   86.0  106.0  111.0  105.0   95.0   \n",
      "1116  ...    145.0  162.0  173.0  172.0  158.0  127.0  122.0  119.0  135.0   \n",
      "1117  ...    134.0  165.0  174.0  175.0  163.0  154.0  129.0  132.0  145.0   \n",
      "1118  ...    132.0  161.0  175.0  188.0  186.0  166.0  160.0  163.0  167.0   \n",
      "1119  ...    117.0  136.0  152.0  159.0  154.0  143.0  111.0  107.0  115.0   \n",
      "1120  ...    139.0  156.0  158.0  155.0  149.0  144.0  130.0  131.0  135.0   \n",
      "1121  ...    142.0  147.0  151.0  145.0  146.0  146.0  146.0  144.0  158.0   \n",
      "1122  ...    167.0  175.0  181.0  182.0  179.0  174.0  162.0  158.0  164.0   \n",
      "1123  ...    104.0  125.0  141.0  147.0  142.0  139.0  121.0  127.0  136.0   \n",
      "1124  ...    143.0  157.0  158.0  154.0  148.0  140.0  129.0  127.0  130.0   \n",
      "1125  ...    123.0  150.0  164.0  170.0  168.0  161.0  149.0  134.0  134.0   \n",
      "1126  ...    138.0  148.0  148.0  134.0  138.0  135.0  127.0  143.0  166.0   \n",
      "1127  ...    118.0  150.0  150.0  149.0  143.0  136.0  131.0  136.0  151.0   \n",
      "1128  ...    140.0  166.0  166.0  156.0  150.0  135.0  136.0  152.0  172.0   \n",
      "1129  ...    144.0  155.0  157.0  156.0  143.0  130.0  126.0  116.0  126.0   \n",
      "1130  ...    140.0  142.0  143.0  141.0  136.0  120.0  115.0  117.0  139.0   \n",
      "1131  ...    146.0  166.0  177.0  174.0  166.0  157.0  154.0  161.0  170.0   \n",
      "1132  ...    163.0  164.0  167.0  166.0  157.0  138.0  142.0  152.0  190.0   \n",
      "1133  ...    154.0  166.0  174.0  177.0  167.0  153.0  145.0  150.0  165.0   \n",
      "1134  ...    180.0  180.0  181.0  172.0  169.0  157.0  157.0  161.0  175.0   \n",
      "1135  ...    162.0  168.0  170.0  170.0  164.0  160.0  153.0  158.0  181.0   \n",
      "\n",
      "       f101  \n",
      "0     195.0  \n",
      "1     221.0  \n",
      "2     191.0  \n",
      "3     163.0  \n",
      "4     231.0  \n",
      "5     143.0  \n",
      "6     215.0  \n",
      "7     176.0  \n",
      "8     152.0  \n",
      "9     135.0  \n",
      "10    166.0  \n",
      "11    159.0  \n",
      "12    159.0  \n",
      "13    135.0  \n",
      "14    163.0  \n",
      "15    173.0  \n",
      "16    162.0  \n",
      "17    215.0  \n",
      "18    192.0  \n",
      "19    125.0  \n",
      "20    165.0  \n",
      "21    179.0  \n",
      "22    155.0  \n",
      "23    150.0  \n",
      "24    196.0  \n",
      "25    170.0  \n",
      "26    188.0  \n",
      "27    154.0  \n",
      "28    128.0  \n",
      "29    206.0  \n",
      "...     ...  \n",
      "1106  215.0  \n",
      "1107  217.0  \n",
      "1108  147.0  \n",
      "1109  192.0  \n",
      "1110  188.0  \n",
      "1111  176.0  \n",
      "1112  166.0  \n",
      "1113  167.0  \n",
      "1114  125.0  \n",
      "1115   95.0  \n",
      "1116  201.0  \n",
      "1117  189.0  \n",
      "1118  177.0  \n",
      "1119  144.0  \n",
      "1120  144.0  \n",
      "1121  177.0  \n",
      "1122  175.0  \n",
      "1123  166.0  \n",
      "1124  159.0  \n",
      "1125  136.0  \n",
      "1126  172.0  \n",
      "1127  182.0  \n",
      "1128  200.0  \n",
      "1129  150.0  \n",
      "1130  135.0  \n",
      "1131  203.0  \n",
      "1132  212.0  \n",
      "1133  181.0  \n",
      "1134  188.0  \n",
      "1135  228.0  \n",
      "\n",
      "[1136 rows x 102 columns]\n",
      "(1134, 102)\n",
      "(1134, 102)\n"
     ]
    }
   ],
   "source": [
    "clase = read_csv_files('clases/')\n",
    "\n",
    "print(clase[0])\n",
    "\n",
    "\n",
    "print(clase[1].shape)\n",
    "print(clase[2].shape)"
   ]
  },
  {
   "cell_type": "markdown",
   "metadata": {
    "deletable": true,
    "editable": true
   },
   "source": [
    "Genero el dataset que usaré para los experimentos. Para este ejemplo, voy a usar los cromosomas de la clase 1 y 2 solamente. Se podría extender para usar más cromosomas."
   ]
  },
  {
   "cell_type": "code",
   "execution_count": 14,
   "metadata": {
    "collapsed": false,
    "deletable": true,
    "editable": true
   },
   "outputs": [],
   "source": [
    "clases_a_usar = [0,1,2,3,4,5,6,7,8,9,10,11,12,13,14,15,16,17,18,19,20,21,22,23]\n",
    "\n",
    "X = []\n",
    "Y = []\n",
    "\n",
    "for idx in clases_a_usar:\n",
    "    \n",
    "    x = np.array(clase[idx]).tolist()\n",
    "    y = idx * np.ones((clase[idx].shape[0]))\n",
    "    y = y.tolist()\n",
    "    \n",
    "    X.extend(x)\n",
    "    Y.extend(y)\n",
    "\n",
    "#print(X[0])\n",
    "#print(X[-1])\n",
    "#print(Y[0])\n",
    "#print(Y[-1])"
   ]
  },
  {
   "cell_type": "markdown",
   "metadata": {
    "deletable": true,
    "editable": true
   },
   "source": [
    "**NOTA**: Es má fácil manipular listas de número en lugar de arreglos numpy. Scikit-learn acepta tanto arreglos de numpy como listas de python."
   ]
  },
  {
   "cell_type": "markdown",
   "metadata": {
    "deletable": true,
    "editable": true
   },
   "source": [
    "<h2>Particionado de los datos</h2>"
   ]
  },
  {
   "cell_type": "code",
   "execution_count": 15,
   "metadata": {
    "collapsed": false,
    "deletable": true,
    "editable": true,
    "scrolled": true
   },
   "outputs": [
    {
     "name": "stdout",
     "output_type": "stream",
     "text": [
      "-----------\n",
      "TRAIN DATA\n",
      "[ 20.  13.   3. ...,   8.   9.   2.]\n",
      "-----------\n",
      "TEST DATA\n",
      "[ 20.  20.  13. ...,   0.  13.  15.]\n"
     ]
    }
   ],
   "source": [
    "# TRAIN: 80% -- TEST: 20%\n",
    "#X_train, X_test, Y_train, Y_test = cross_validation.train_test_split(X,Y,test_size=0.4,random_state=0)\n",
    "\n",
    "X_train, X_test, Y_train, Y_test = model_selection.train_test_split(X,Y,test_size=0.2,random_state=0)\n",
    "\n",
    "# Ahora si convierto a NUMPY\n",
    "X_train = np.array(X_train)\n",
    "X_test = np.array(X_test)\n",
    "Y_train = np.array(Y_train)\n",
    "Y_test = np.array(Y_test)\n",
    "\n",
    "\n",
    "print('-----------')\n",
    "print('TRAIN DATA')\n",
    "#print(X_train)\n",
    "print(Y_train)\n",
    "\n",
    "print('-----------')\n",
    "print('TEST DATA')\n",
    "#print (X_test)\n",
    "print (Y_test)"
   ]
  },
  {
   "cell_type": "markdown",
   "metadata": {
    "deletable": true,
    "editable": true
   },
   "source": [
    "<h1>Preprocesamiento</h1>"
   ]
  },
  {
   "cell_type": "markdown",
   "metadata": {
    "deletable": true,
    "editable": true
   },
   "source": [
    "<h2>Estandarización</h2>"
   ]
  },
  {
   "cell_type": "code",
   "execution_count": 16,
   "metadata": {
    "collapsed": false,
    "deletable": true,
    "editable": true
   },
   "outputs": [
    {
     "data": {
      "text/plain": [
       "(array([  1.65300000e+03,   6.57900000e+03,   6.66100000e+03,\n",
       "          3.67000000e+03,   1.65100000e+03,   5.98000000e+02,\n",
       "          8.10000000e+01,   3.00000000e+00,   1.00000000e+00,\n",
       "          1.00000000e+00]),\n",
       " array([-2.09433569, -1.23663995, -0.37894421,  0.47875152,  1.33644726,\n",
       "         2.19414299,  3.05183873,  3.90953446,  4.7672302 ,  5.62492594,\n",
       "         6.48262167]),\n",
       " <a list of 10 Patch objects>)"
      ]
     },
     "execution_count": 16,
     "metadata": {},
     "output_type": "execute_result"
    },
    {
     "data": {
      "image/png": "[encoded data removed]",
      "text/plain": [
       "<matplotlib.figure.Figure at 0x7fdd982a2fd0>"
      ]
     },
     "metadata": {},
     "output_type": "display_data"
    }
   ],
   "source": [
    "scaler = preprocessing.StandardScaler().fit(X_train)                    # Built scaler to normalize values (mean=0.0 and std=1.0)\n",
    "#scaler = preprocessing.MinMaxScaler(feature_range=(0,1)).fit(X_train)  # Built scaler to scale values in range [Xmin,Xmax]\n",
    "#scaler = preprocessing.MaxAbsScaler().fit(X_train)                     # Built scaler to scale values in range [-1,1]\n",
    "\n",
    "# APPLY TRAINED SCALER\n",
    "sX_train = scaler.transform(X_train)\n",
    "\n",
    "sX_test = scaler.transform(X_test)\n",
    "\n",
    "sX_train.mean(axis=0)\n",
    "#sX_train.std(axis=0)\n",
    "\n",
    "plt.subplot(1,2,1)\n",
    "plt.hist(np.array(X_train)[:,1],color='b')\n",
    "\n",
    "plt.subplot(1,2,2)\n",
    "plt.hist(np.array(sX_train)[:,1],color='r')"
   ]
  },
  {
   "cell_type": "markdown",
   "metadata": {
    "deletable": true,
    "editable": true
   },
   "source": [
    "<h2>Normalización de los datos</h2>\n",
    "\n",
    "Revisar: *http://scikit-learn.org/stable/modules/classes.html#module-sklearn.preprocessing*"
   ]
  },
  {
   "cell_type": "code",
   "execution_count": 17,
   "metadata": {
    "collapsed": false,
    "deletable": true,
    "editable": true
   },
   "outputs": [
    {
     "data": {
      "text/plain": [
       "(array([  1.65300000e+03,   6.57900000e+03,   6.88700000e+03,\n",
       "          3.44400000e+03,   1.69800000e+03,   5.51000000e+02,\n",
       "          8.10000000e+01,   3.00000000e+00,   1.00000000e+00,\n",
       "          1.00000000e+00]),\n",
       " array([ 0.00040351,  0.00282459,  0.00524566,  0.00766674,  0.01008781,\n",
       "         0.01250889,  0.01492997,  0.01735104,  0.01977212,  0.02219319,\n",
       "         0.02461427]),\n",
       " <a list of 10 Patch objects>)"
      ]
     },
     "execution_count": 17,
     "metadata": {},
     "output_type": "execute_result"
    },
    {
     "data": {
      "image/png": "[encoded data removed]",
      "text/plain": [
       "<matplotlib.figure.Figure at 0x7fdd983be438>"
      ]
     },
     "metadata": {},
     "output_type": "display_data"
    }
   ],
   "source": [
    "# Previamente estandarizado (cada patrón tiene media=0 y varianza=1)\n",
    "normalizer = preprocessing.Normalizer(norm='l2', copy=True).fit(X_train.T)\n",
    "\n",
    "nX_train = normalizer.transform(X_train.T)\n",
    "nX_test = normalizer.transform(X_test.T)\n",
    "\n",
    "# Traspongo nuevamente\n",
    "nX_train = nX_train.T\n",
    "nX_test = nX_test.T\n",
    "\n",
    "\n",
    "plt.subplot(1,3,1)\n",
    "plt.hist(np.array(X_train)[:,1],color='b')\n",
    "\n",
    "plt.subplot(1,3,2)\n",
    "plt.hist(np.array(sX_train)[:,1],color='r')\n",
    "\n",
    "plt.subplot(1,3,3)\n",
    "plt.hist(np.array(nX_train)[:,1],color='g')"
   ]
  },
  {
   "cell_type": "markdown",
   "metadata": {
    "deletable": true,
    "editable": true
   },
   "source": [
    "<h2>Construcción del clasificador</h2>"
   ]
  },
  {
   "cell_type": "code",
   "execution_count": 18,
   "metadata": {
    "collapsed": false,
    "deletable": true,
    "editable": true
   },
   "outputs": [],
   "source": [
    "clf = svm.SVC(kernel='linear', gamma='auto', C=1, cache_size=500)\n",
    "#clf = svm.SVC(kernel='rbf', gamma=0.1, C=1000, cache_size=500)"
   ]
  },
  {
   "cell_type": "markdown",
   "metadata": {
    "deletable": true,
    "editable": true
   },
   "source": [
    "<h2>Entrenamiento del clasificador</h2>"
   ]
  },
  {
   "cell_type": "code",
   "execution_count": 19,
   "metadata": {
    "collapsed": false,
    "deletable": true,
    "editable": true
   },
   "outputs": [
    {
     "data": {
      "text/plain": [
       "SVC(C=1, cache_size=500, class_weight=None, coef0=0.0,\n",
       "  decision_function_shape=None, degree=3, gamma='auto', kernel='linear',\n",
       "  max_iter=-1, probability=False, random_state=None, shrinking=True,\n",
       "  tol=0.001, verbose=False)"
      ]
     },
     "execution_count": 19,
     "metadata": {},
     "output_type": "execute_result"
    }
   ],
   "source": [
    "#TRAIN = X_train  # --> Datos CRUDOS\n",
    "TRAIN = sX_train # --> Datos ESTANDARIZADOS\n",
    "#TRAIN = nX_train # --> Datos NORMALIZADOS\n",
    "\n",
    "clf.fit(TRAIN, Y_train)"
   ]
  },
  {
   "cell_type": "markdown",
   "metadata": {
    "deletable": true,
    "editable": true
   },
   "source": [
    "<h2>Predicción y medidas de desempeño</h2>"
   ]
  },
  {
   "cell_type": "code",
   "execution_count": null,
   "metadata": {
    "collapsed": false,
    "deletable": true,
    "editable": true,
    "scrolled": false
   },
   "outputs": [
    {
     "name": "stdout",
     "output_type": "stream",
     "text": [
      "\n",
      "Accuracy: 0.87\n",
      "\n",
      "CONFUSSION MATRIX\n",
      "[[214   3   0   0   0   1   0   0   0   0   0   0   0   0   0   0   0   0\n",
      "    0   0   0   0   0   0]\n",
      " [  3 221   2   1   1   1   0   0   0   0   0   0   0   0   0   0   0   0\n",
      "    0   0   0   0   1   0]\n",
      " [  1   1 204   0   1   9   0   0   0   0   0   1   0   0   0   0   0   0\n",
      "    0   0   0   0   0   0]\n",
      " [  1   3   4 181   9   3   1   0   1   1   0   0   0   0   0   0   0   0\n",
      "    0   0   0   0   2   0]\n",
      " [  0   1   5  24 204   2   0   0   0   0   0   1   0   0   0   0   0   0\n",
      "    0   0   0   0   1   0]\n",
      " [  2   2   3   2   0 203   3   2   2   3   0   0   0   0   0   0   0   0\n",
      "    0   1   0   0   1   0]\n",
      " [  2   1   1   0   1   2 208   3   4   1   0   3   1   0   0   1   0   0\n",
      "    0   0   0   0   2   0]\n",
      " [  0   1   2   0   0   0   0 208   7   0   2   0   1   4   0   1   0   0\n",
      "    0   0   0   0   3   0]\n",
      " [  0   1   1   0   0   0   4   5 181   3   0   1   1   1   0   2   1   0\n",
      "    1   0   0   0   7   0]\n",
      " [  0   0   0   1   1   1   0   4   3 195   3   0   2   3   3   1   0   1\n",
      "    0   0   0   0   0   0]\n",
      " [  0   0   0   0   1   0   2   0   1   2 203   5   1   1   0   0   2   0\n",
      "    0   0   0   0   0   0]\n",
      " [  0   0   1   1   2   1   0   2   6   0   3 214   3   0   0   0   1   0\n",
      "    0   0   0   0   3   0]\n",
      " [  0   0   0   0   0   0   5   6   0   0   1   2 195   3   3   4   0   0\n",
      "    0   0   1   0   1   0]\n",
      " [  0   0   0   0   0   0   1   2   2   3   0   0   5 232  11   3   3   3\n",
      "    0   0   0   0   0   1]\n",
      " [  0   0   0   0   0   0   0   0   1   2   0   0   6   7 204   3   0   2\n",
      "    2   2   0   0   3   0]\n",
      " [  0   0   0   0   0   0   0   0   2   8   0   0  13   3   4 180   3  12\n",
      "    2   4   0   1   0   0]\n",
      " [  0   0   0   0   0   0   0   0   2   3   2   0   1   4   0   3 190   3\n",
      "    0   7   1   1   0   3]\n",
      " [  0   0   0   0   0   0   0   0   0   0   0   0   1   4   6   9   3 194\n",
      "    2   1   0   0   0   3]\n",
      " [  0   0   0   0   0   0   0   0   0   0   0   0   1   2   5   2   1   5\n",
      "  187   6   9  24   0   2]\n",
      " [  0   0   0   0   0   0   0   0   0   0   0   0   0   0   4   3   7   2\n",
      "   11 191   3   9   0   1]\n",
      " [  0   0   0   0   0   0   0   0   0   0   0   0   2   0   0   1   0   0\n",
      "    8   0 203  14   0   2]\n",
      " [  0   0   0   0   0   0   0   0   0   0   0   0   0   3   0   1   0   1\n",
      "   21  11   9 178   0   4]\n",
      " [  0   0   4   3   1   2   1   5  12   1   3   1   0   0   1   1   0   0\n",
      "    0   0   0   0 132   0]\n",
      " [  0   0   0   0   0   0   0   0   0   0   0   0   2   0   0   0   1   2\n",
      "    5   2   0   3   0  42]]\n",
      "\n",
      "\n",
      "Classification report for classifier SVC(C=1, cache_size=500, class_weight=None, coef0=0.0,\n",
      "  decision_function_shape=None, degree=3, gamma='auto', kernel='linear',\n",
      "  max_iter=-1, probability=False, random_state=None, shrinking=True,\n",
      "  tol=0.001, verbose=False):\n",
      "\n",
      "             precision    recall  f1-score   support\n",
      "\n",
      "        0.0       0.96      0.98      0.97       218\n",
      "        1.0       0.94      0.96      0.95       230\n",
      "        2.0       0.90      0.94      0.92       217\n",
      "        3.0       0.85      0.88      0.86       206\n",
      "        4.0       0.92      0.86      0.89       238\n",
      "        5.0       0.90      0.91      0.90       224\n",
      "        6.0       0.92      0.90      0.91       230\n",
      "        7.0       0.88      0.91      0.89       229\n",
      "        8.0       0.81      0.87      0.84       209\n",
      "        9.0       0.88      0.89      0.89       218\n",
      "       10.0       0.94      0.93      0.93       218\n",
      "       11.0       0.94      0.90      0.92       237\n",
      "       12.0       0.83      0.88      0.86       221\n",
      "       13.0       0.87      0.87      0.87       266\n",
      "       14.0       0.85      0.88      0.86       232\n",
      "       15.0       0.84      0.78      0.81       232\n",
      "       16.0       0.90      0.86      0.88       220\n",
      "       17.0       0.86      0.87      0.87       223\n",
      "       18.0       0.78      0.77      0.77       244\n",
      "       19.0       0.85      0.83      0.84       231\n",
      "       20.0       0.90      0.88      0.89       230\n",
      "       21.0       0.77      0.78      0.78       228\n",
      "       22.0       0.85      0.79      0.82       167\n",
      "       23.0       0.72      0.74      0.73        57\n",
      "\n",
      "avg / total       0.87      0.87      0.87      5225\n",
      "\n",
      "\n",
      "K fold\n"
     ]
    },
    {
     "name": "stderr",
     "output_type": "stream",
     "text": [
      "/home/asusn56/anaconda3/lib/python3.6/site-packages/sklearn/cross_validation.py:44: DeprecationWarning: This module was deprecated in version 0.18 in favor of the model_selection module into which all the refactored classes and functions are moved. Also note that the interface of the new CV iterators are different from that of this module. This module will be removed in 0.20.\n",
      "  \"This module will be removed in 0.20.\", DeprecationWarning)\n"
     ]
    }
   ],
   "source": [
    "#TEST = X_test  # --> Datos CRUDOS\n",
    "TEST = sX_test # --> Datos ESTANDARIZADOS\n",
    "#TEST = nX_test # --> Datos NORMALIZADOS\n",
    "\n",
    "#======================\n",
    "# SCORE CALCULATION\n",
    "#======================\n",
    "score = clf.score(TEST, Y_test)\n",
    "\n",
    "print(\"\\nAccuracy: %0.2f\" % (score))\n",
    "\n",
    "\n",
    "\n",
    "#===================\n",
    "# CONFUSSION MATRIX\n",
    "#===================\n",
    "Y_pred = clf.predict(TEST)\n",
    "\n",
    "print('\\nCONFUSSION MATRIX')\n",
    "cm=metrics.confusion_matrix(Y_test,Y_pred)\n",
    "print(cm)\n",
    "\n",
    "#MATRIZ DE CONFUSION\n",
    "\n",
    "plt.matshow(cm)\n",
    "plt.title('Confusion matrix')\n",
    "plt.colorbar()\n",
    "plt.ylabel('True label')\n",
    "plt.xlabel('Predicted label')\n",
    "\n",
    "\n",
    "\n",
    "\n",
    "\n",
    "#=========\n",
    "# REPORT\n",
    "#=========\n",
    "print(\"\\n\\nClassification report for classifier %s:\\n\\n%s\\n\"\n",
    "      %\n",
    "      (clf, metrics.classification_report(Y_test, Y_pred)))"
   ]
  },
  {
   "cell_type": "markdown",
   "metadata": {},
   "source": [
    "Es interesante ver que en la diagonal de la matriz de confusión están los valores más altos (se confunde relativamente poco el clasificador)."
   ]
  }
 ],
 "metadata": {
  "kernelspec": {
   "display_name": "Python 3",
   "language": "python",
   "name": "python3"
  },
  "language_info": {
   "codemirror_mode": {
    "name": "ipython",
    "version": 3.0
   },
   "file_extension": ".py",
   "mimetype": "text/x-python",
   "name": "python",
   "nbconvert_exporter": "python",
   "pygments_lexer": "ipython3",
   "version": "3.6.0"
  }
 },
 "nbformat": 4,
 "nbformat_minor": 0
}