{
 "cells": [
  {
   "cell_type": "markdown",
   "metadata": {},
   "source": [
    "# Loading an example dataset\n",
    "scikit-learn comes with a few standard datasets, for instance the iris and digits datasets for classification and the boston house prices dataset for regression.\n",
    "\n",
    "In the following, we start a Python interpreter from our shell and then load the iris and digits datasets. Our notational convention is that $ denotes the shell prompt while >>> denotes the Python interpreter prompt:"
   ]
  },
  {
   "cell_type": "code",
   "execution_count": 1,
   "metadata": {
    "collapsed": false
   },
   "outputs": [
    {
     "name": "stderr",
     "output_type": "stream",
     "text": [
      "/home/asusn56/anaconda3/lib/python3.6/site-packages/matplotlib/font_manager.py:280: UserWarning: Matplotlib is building the font cache using fc-list. This may take a moment.\n",
      "  'Matplotlib is building the font cache using fc-list. '\n"
     ]
    },
    {
     "ename": "SyntaxError",
     "evalue": "invalid syntax (ARFFparser.py, line 131)",
     "traceback": [
      "\u001b[0;36m  File \u001b[0;32m\"/home/asusn56/PycharmProjects/Machine Learning with Python/Notebooks/ARFFparser.py\"\u001b[0;36m, line \u001b[0;32m131\u001b[0m\n\u001b[0;31m    print self['class'][ii] + ': ' + str(values[ii])\u001b[0m\n\u001b[0m             ^\u001b[0m\n\u001b[0;31mSyntaxError\u001b[0m\u001b[0;31m:\u001b[0m invalid syntax\n"
     ],
     "output_type": "error"
    }
   ],
   "source": [
    "%matplotlib inline\n",
    "import matplotlib.pyplot as plt\n",
    "import numpy as np\n",
    "\n",
    "from sklearn import datasets\n",
    "import ARFFparser  # Parser definido por el usuario\n",
    "\n",
    "iris = datasets.load_iris()       # Base de datos IRIS\n",
    "digits = datasets.load_digits()   # Base de datos MNIST\n",
    "\n",
    "CGM = ARFFparser.ARFFparser('Data/GCM_Training.arff')   # Base de datos CGM\n",
    "\n",
    "\n",
    "#=========================================================\n",
    "# IRIS\n",
    "X = iris.data\n",
    "Y = iris.target\n",
    "L = iris.target_names[iris.target]\n",
    "\n",
    "# DIGITS\n",
    "#X = digits.data\n",
    "#Y = digits.target\n",
    "#L = digits.target_names[digits.target]\n",
    "\n",
    "# CGM\n",
    "#X = CGM['values']\n",
    "#Y = [CGM['class'].index(t) for t in CGM['target']]\n",
    "#L = CGM['target']\n",
    "#========================================================="
   ]
  },
  {
   "cell_type": "markdown",
   "metadata": {},
   "source": [
    "A dataset is a dictionary-like object that holds all the data and some metadata about the data. This data is stored in the .data member, which is a *n_samples*, *n_features* array. In the case of supervised problem, one or more response variables are stored in the .target member. More details on the different datasets can be found in the dedicated section.\n",
    "\n",
    "For instance, in the case of the digits dataset, digits.data gives access to the features that can be used to classify the digits samples:"
   ]
  },
  {
   "cell_type": "code",
   "execution_count": 2,
   "metadata": {
    "collapsed": false
   },
   "outputs": [
    {
     "ename": "SyntaxError",
     "evalue": "Missing parentheses in call to 'print' (<ipython-input-2-ae6dcaa19add>, line 1)",
     "traceback": [
      "\u001b[0;36m  File \u001b[0;32m\"<ipython-input-2-ae6dcaa19add>\"\u001b[0;36m, line \u001b[0;32m1\u001b[0m\n\u001b[0;31m    print 'DIGITS'\u001b[0m\n\u001b[0m                 ^\u001b[0m\n\u001b[0;31mSyntaxError\u001b[0m\u001b[0;31m:\u001b[0m Missing parentheses in call to 'print'\n"
     ],
     "output_type": "error"
    }
   ],
   "source": [
    "print 'DIGITS'\n",
    "print(digits.data[4].reshape(8,8))\n",
    "\n",
    "# PLOTTING digit \"4\"\n",
    "plt.imshow(digits.data[4].reshape(8,8), cmap=plt.cm.gray_r, interpolation='nearest')\n",
    "plt.show()"
   ]
  },
  {
   "cell_type": "markdown",
   "metadata": {},
   "source": [
    "and digits.target gives the ground truth for the digit dataset, that is the number corresponding to each digit image that we are trying to learn:"
   ]
  },
  {
   "cell_type": "code",
   "execution_count": 3,
   "metadata": {
    "collapsed": false
   },
   "outputs": [
    {
     "name": "stdout",
     "output_type": "stream",
     "text": [
      "IRIS\n",
      "[0 0 0 0 0 0 0 0 0 0 0 0 0 0 0 0 0 0 0 0 0 0 0 0 0 0 0 0 0 0 0 0 0 0 0 0 0\n",
      " 0 0 0 0 0 0 0 0 0 0 0 0 0 1 1 1 1 1 1 1 1 1 1 1 1 1 1 1 1 1 1 1 1 1 1 1 1\n",
      " 1 1 1 1 1 1 1 1 1 1 1 1 1 1 1 1 1 1 1 1 1 1 1 1 1 1 2 2 2 2 2 2 2 2 2 2 2\n",
      " 2 2 2 2 2 2 2 2 2 2 2 2 2 2 2 2 2 2 2 2 2 2 2 2 2 2 2 2 2 2 2 2 2 2 2 2 2\n",
      " 2 2]\n",
      "['setosa' 'setosa' 'setosa' 'setosa' 'setosa' 'setosa' 'setosa' 'setosa'\n",
      " 'setosa' 'setosa' 'setosa' 'setosa' 'setosa' 'setosa' 'setosa' 'setosa'\n",
      " 'setosa' 'setosa' 'setosa' 'setosa' 'setosa' 'setosa' 'setosa' 'setosa'\n",
      " 'setosa' 'setosa' 'setosa' 'setosa' 'setosa' 'setosa' 'setosa' 'setosa'\n",
      " 'setosa' 'setosa' 'setosa' 'setosa' 'setosa' 'setosa' 'setosa' 'setosa'\n",
      " 'setosa' 'setosa' 'setosa' 'setosa' 'setosa' 'setosa' 'setosa' 'setosa'\n",
      " 'setosa' 'setosa' 'versicolor' 'versicolor' 'versicolor' 'versicolor'\n",
      " 'versicolor' 'versicolor' 'versicolor' 'versicolor' 'versicolor'\n",
      " 'versicolor' 'versicolor' 'versicolor' 'versicolor' 'versicolor'\n",
      " 'versicolor' 'versicolor' 'versicolor' 'versicolor' 'versicolor'\n",
      " 'versicolor' 'versicolor' 'versicolor' 'versicolor' 'versicolor'\n",
      " 'versicolor' 'versicolor' 'versicolor' 'versicolor' 'versicolor'\n",
      " 'versicolor' 'versicolor' 'versicolor' 'versicolor' 'versicolor'\n",
      " 'versicolor' 'versicolor' 'versicolor' 'versicolor' 'versicolor'\n",
      " 'versicolor' 'versicolor' 'versicolor' 'versicolor' 'versicolor'\n",
      " 'versicolor' 'versicolor' 'versicolor' 'versicolor' 'versicolor'\n",
      " 'versicolor' 'virginica' 'virginica' 'virginica' 'virginica' 'virginica'\n",
      " 'virginica' 'virginica' 'virginica' 'virginica' 'virginica' 'virginica'\n",
      " 'virginica' 'virginica' 'virginica' 'virginica' 'virginica' 'virginica'\n",
      " 'virginica' 'virginica' 'virginica' 'virginica' 'virginica' 'virginica'\n",
      " 'virginica' 'virginica' 'virginica' 'virginica' 'virginica' 'virginica'\n",
      " 'virginica' 'virginica' 'virginica' 'virginica' 'virginica' 'virginica'\n",
      " 'virginica' 'virginica' 'virginica' 'virginica' 'virginica' 'virginica'\n",
      " 'virginica' 'virginica' 'virginica' 'virginica' 'virginica' 'virginica'\n",
      " 'virginica' 'virginica' 'virginica']\n",
      "\n",
      "DIGITS\n",
      "[0 1 2 ..., 8 9 8]\n",
      "[0 1 2 ..., 8 9 8]\n",
      "\n",
      "CGM\n",
      "['Breast' 'Breast' 'Breast' 'Breast' 'Breast' 'Breast' 'Breast' 'Breast'\n",
      " 'Prostate' 'Prostate' 'Prostate' 'Prostate' 'Prostate' 'Prostate'\n",
      " 'Prostate' 'Prostate' 'Lung' 'Lung' 'Lung' 'Lung' 'Lung' 'Lung' 'Lung'\n",
      " 'Lung' 'Colorectal' 'Colorectal' 'Colorectal' 'Colorectal' 'Colorectal'\n",
      " 'Colorectal' 'Colorectal' 'Colorectal' 'Lymphoma' 'Lymphoma' 'Lymphoma'\n",
      " 'Lymphoma' 'Lymphoma' 'Lymphoma' 'Lymphoma' 'Lymphoma' 'Lymphoma'\n",
      " 'Lymphoma' 'Lymphoma' 'Lymphoma' 'Lymphoma' 'Lymphoma' 'Lymphoma'\n",
      " 'Lymphoma' 'Bladder' 'Bladder' 'Bladder' 'Bladder' 'Bladder' 'Bladder'\n",
      " 'Bladder' 'Bladder' 'Melanoma' 'Melanoma' 'Melanoma' 'Melanoma' 'Melanoma'\n",
      " 'Melanoma' 'Melanoma' 'Melanoma' 'Uterus__Adeno' 'Uterus__Adeno'\n",
      " 'Uterus__Adeno' 'Uterus__Adeno' 'Uterus__Adeno' 'Uterus__Adeno'\n",
      " 'Uterus__Adeno' 'Uterus__Adeno' 'Leukemia' 'Leukemia' 'Leukemia'\n",
      " 'Leukemia' 'Leukemia' 'Leukemia' 'Leukemia' 'Leukemia' 'Leukemia'\n",
      " 'Leukemia' 'Leukemia' 'Leukemia' 'Leukemia' 'Leukemia' 'Leukemia'\n",
      " 'Leukemia' 'Leukemia' 'Leukemia' 'Leukemia' 'Leukemia' 'Leukemia'\n",
      " 'Leukemia' 'Leukemia' 'Leukemia' 'Renal' 'Renal' 'Renal' 'Renal' 'Renal'\n",
      " 'Renal' 'Renal' 'Renal' 'Pancreas' 'Pancreas' 'Pancreas' 'Pancreas'\n",
      " 'Pancreas' 'Pancreas' 'Pancreas' 'Pancreas' 'Ovary' 'Ovary' 'Ovary'\n",
      " 'Ovary' 'Ovary' 'Ovary' 'Ovary' 'Ovary' 'Mesothelioma' 'Mesothelioma'\n",
      " 'Mesothelioma' 'Mesothelioma' 'Mesothelioma' 'Mesothelioma' 'Mesothelioma'\n",
      " 'Mesothelioma' 'CNS' 'CNS' 'CNS' 'CNS' 'CNS' 'CNS' 'CNS' 'CNS' 'CNS' 'CNS'\n",
      " 'CNS' 'CNS' 'CNS' 'CNS' 'CNS' 'CNS']\n",
      "[7, 7, 7, 7, 7, 7, 7, 7, 11, 11, 11, 11, 11, 11, 11, 11, 6, 6, 6, 6, 6, 6, 6, 6, 8, 8, 8, 8, 8, 8, 8, 8, 10, 10, 10, 10, 10, 10, 10, 10, 10, 10, 10, 10, 10, 10, 10, 10, 4, 4, 4, 4, 4, 4, 4, 4, 0, 0, 0, 0, 0, 0, 0, 0, 2, 2, 2, 2, 2, 2, 2, 2, 5, 5, 5, 5, 5, 5, 5, 5, 5, 5, 5, 5, 5, 5, 5, 5, 5, 5, 5, 5, 5, 5, 5, 5, 1, 1, 1, 1, 1, 1, 1, 1, 13, 13, 13, 13, 13, 13, 13, 13, 9, 9, 9, 9, 9, 9, 9, 9, 3, 3, 3, 3, 3, 3, 3, 3, 12, 12, 12, 12, 12, 12, 12, 12, 12, 12, 12, 12, 12, 12, 12, 12]\n"
     ]
    }
   ],
   "source": [
    "print('IRIS')\n",
    "print(iris.target)\n",
    "print(iris.target_names[iris.target])\n",
    "\n",
    "print('\\nDIGITS')\n",
    "print(digits.target)\n",
    "print(digits.target_names[digits.target])\n",
    "\n",
    "print('\\nCGM')\n",
    "print(CGM['target'])\n",
    "print([CGM['class'].index(t) for t in CGM['target']])"
   ]
  },
  {
   "cell_type": "markdown",
   "metadata": {},
   "source": [
    "# DATA VISUALIZATION\n",
    "## Dimmensionality reduction\n"
   ]
  },
  {
   "cell_type": "code",
   "execution_count": 4,
   "metadata": {
    "collapsed": false
   },
   "outputs": [
    {
     "data": {
      "text/plain": [
       "<matplotlib.text.Text at 0x7f0d0adfa190>"
      ]
     },
     "execution_count": 4,
     "metadata": {},
     "output_type": "execute_result"
    },
    {
     "name": "stderr",
     "output_type": "stream",
     "text": [
      "/usr/lib64/python2.7/site-packages/matplotlib/collections.py:590: FutureWarning: elementwise comparison failed; returning scalar instead, but in the future will perform elementwise comparison\n",
      "  if self._edgecolors == str('face'):\n"
     ]
    },
    {
     "data": {
      "image/png": "[encoded data removed]",
      "text/plain": [
       "<matplotlib.figure.Figure at 0x7f0d3066a290>"
      ]
     },
     "metadata": {},
     "output_type": "display_data"
    }
   ],
   "source": [
    "from sklearn import manifold\n",
    "from sklearn.decomposition import PCA\n",
    "from matplotlib.ticker import NullFormatter\n",
    "\n",
    "\n",
    "# MAPA DE COLORES\n",
    "CMAP = plt.cm.jet\n",
    "#CMAP = plt.cm.Spectral\n",
    "\n",
    "n_neighbors = 10\n",
    "n_components = 2\n",
    "\n",
    "\n",
    "\n",
    "#------\n",
    "# PCA\n",
    "#------\n",
    "Ypred = PCA(n_components=2, whiten=False).fit(X).transform(X)\n",
    "plt.scatter(Ypred[:, 0], Ypred[:, 1], c=Y, cmap=CMAP)\n",
    "plt.title('PCA', color='white', fontsize=18)\n",
    "\n",
    "\n",
    "\n",
    "#---------------------------\n",
    "# LOCALLY LINEAR EMBEDDING\n",
    "#\n",
    "# methods:\n",
    "#         - standard\n",
    "#         - ltsa\n",
    "#         - hessian\n",
    "#         - modified\n",
    "#\n",
    "#---------------------------\n",
    "#Ypred = manifold.LocallyLinearEmbedding(n_neighbors, n_components, eigen_solver='auto', method='standard').fit_transform(X)\n",
    "#plt.scatter(Ypred[:, 0], Ypred[:, 1], c=Y, cmap=CMAP)\n",
    "#plt.title('LLE', color='white', fontsize=18)\n",
    "\n",
    "\n",
    "#--------\n",
    "# ISOMAP\n",
    "#--------\n",
    "#Ypred = manifold.Isomap(n_neighbors, n_components).fit_transform(X)\n",
    "#plt.scatter(Ypred[:, 0], Ypred[:, 1], c=Y, cmap=CMAP)\n",
    "#plt.title('ISOMAP', color='white', fontsize=18)\n",
    "\n",
    "\n",
    "#-------------------------\n",
    "# MDS\n",
    "#-------------------------\n",
    "#Ypred = manifold.MDS(n_components, max_iter=100, n_init=1).fit_transform(X)\n",
    "#plt.scatter(Ypred[:, 0], Ypred[:, 1], c=Y, cmap=CMAP)\n",
    "#plt.title('MDS', color='white', fontsize=18)\n",
    "\n",
    "\n",
    "#-------------------------\n",
    "# SPECTRAL EMBEDDING\n",
    "#-------------------------\n",
    "#Ypred = manifold.SpectralEmbedding(n_components=n_components, n_neighbors=n_neighbors).fit_transform(X)\n",
    "#plt.scatter(Ypred[:, 0], Ypred[:, 1], c=Y, cmap=CMAP)\n",
    "#plt.title('Spectral Embedding', color='white', fontsize=18)\n",
    "\n",
    "\n",
    "#-------------------------\n",
    "# t-SNE\n",
    "#-------------------------\n",
    "#Ypred = manifold.TSNE(n_components=n_components, init='pca', random_state=0).fit_transform(X)\n",
    "#plt.scatter(Ypred[:, 0], Ypred[:, 1], c=Y, cmap=CMAP)\n",
    "#plt.title('t-SNE', color='white', fontsize=18)"
   ]
  },
  {
   "cell_type": "markdown",
   "metadata": {},
   "source": [
    "# PREPROCESSING\n",
    "\n",
    "The *sklearn.preprocessing* package provides several common utility functions and transformer classes to change raw feature vectors into a representation that is more suitable for the downstream estimators."
   ]
  },
  {
   "cell_type": "code",
   "execution_count": 5,
   "metadata": {
    "collapsed": true
   },
   "outputs": [],
   "source": [
    "from sklearn import preprocessing"
   ]
  },
  {
   "cell_type": "markdown",
   "metadata": {},
   "source": [
    "### STANDARIZATION\n",
    "Normalization is the process of scaling individual samples to have unit norm. This process can be useful if you plan to use a quadratic form such as the dot-product or any other kernel to quantify the similarity of any pair of samples."
   ]
  },
  {
   "cell_type": "code",
   "execution_count": 6,
   "metadata": {
    "collapsed": false
   },
   "outputs": [
    {
     "data": {
      "text/plain": [
       "array([ -1.69031455e-15,  -1.63702385e-15,  -1.48251781e-15,\n",
       "        -1.62314606e-15])"
      ]
     },
     "execution_count": 6,
     "metadata": {},
     "output_type": "execute_result"
    }
   ],
   "source": [
    "scaler = preprocessing.StandardScaler().fit(X)                    # Built scaler to normalize values (mean=0.0 and std=1.0)\n",
    "#scaler = preprocessing.MinMaxScaler(feature_range=(0,1)).fit(X)  # Built scaler to scale values in range [Xmin,Xmax]\n",
    "#scaler = preprocessing.MaxAbsScaler().fit(X)                     # Built scaler to scale values in range [-1,1]\n",
    "\n",
    "# APPLY TRAINED SCALER\n",
    "X_scaled = scaler.transform(X)\n",
    "\n",
    "X_scaled.mean(axis=0)\n",
    "#X_scaled.std(axis=0)"
   ]
  },
  {
   "cell_type": "markdown",
   "metadata": {},
   "source": [
    "### NORMALIZATION\n",
    "\n",
    "**Normalization** is the process of **scaling individual samples to have unit norm**. This process can be useful if you plan to use a quadratic form such as the dot-product or any other kernel to quantify the similarity of any pair of samples."
   ]
  },
  {
   "cell_type": "code",
   "execution_count": 7,
   "metadata": {
    "collapsed": false
   },
   "outputs": [
    {
     "data": {
      "text/plain": [
       "array([[ 0.25, -0.25,  0.5 ],\n",
       "       [ 1.  ,  0.  ,  0.  ],\n",
       "       [ 0.  ,  0.5 , -0.5 ]])"
      ]
     },
     "execution_count": 7,
     "metadata": {},
     "output_type": "execute_result"
    }
   ],
   "source": [
    "W = [[ 1., -1.,  2.],\n",
    "     [ 2.,  0.,  0.],\n",
    "     [ 0.,  1., -1.]]\n",
    "\n",
    "normalizer = preprocessing.Normalizer(copy=True, norm='l1').fit(W)  # fit does nothing\n",
    "\n",
    "normalizer.transform(W)"
   ]
  },
  {
   "cell_type": "markdown",
   "metadata": {},
   "source": [
    "# TRAINING A CLASSIFFIER"
   ]
  },
  {
   "cell_type": "code",
   "execution_count": 8,
   "metadata": {
    "collapsed": false
   },
   "outputs": [
    {
     "name": "stdout",
     "output_type": "stream",
     "text": [
      "[0 0 0 0 0 0 0 0 0 0 0 0 0 0 0 0 0 0 0 0 0 0 0 0 0 0 0 0 0 0 0 0 0 0 0 0 0\n",
      " 0 0 0 0 0 0 0 0 0 0 0 0 0 1 1 1 1 1 1 1 1 1 1 1 1 1 1 1 1 1 1 1 1 1 1 1 1\n",
      " 1 1 1 1 1 1 1 1 1 2 1 1 1 1 1 1 1 1 1 1 1 1 1 1 1 1 2 2 2 2 2 2 2 2 2 2 2\n",
      " 2 2 2 2 2 2 2 2 2 2 2 2 2 2 2 2 2 2 2 2 2 2 2 2 2 2 2 2 2 2 2 2 2 2 2 2 2\n",
      " 2 2]\n"
     ]
    }
   ],
   "source": [
    "from sklearn import svm\n",
    "from sklearn import ensemble\n",
    "from sklearn import naive_bayes\n",
    "from sklearn.neighbors import KNeighborsClassifier\n",
    "from sklearn import tree\n",
    "\n",
    "\n",
    "#------\n",
    "# SVM\n",
    "#------\n",
    "clf = svm.SVC(kernel='linear', gamma=0.1, C=1, cache_size=500).fit(X, Y)\n",
    "#clf = svm.SVC(kernel='poly', degree=3, gamma=0.000075, C=1, cache_size=500).fit(X, Y)\n",
    "#clf = svm.SVC(kernel='rbf', degree=3, gamma=0.000075, C=1, cache_size=500).fit(X, Y)\n",
    "\n",
    "\n",
    "#------------\n",
    "# ENSEMBLES\n",
    "#------------\n",
    "#clf = ensemble.RandomForestClassifier(50,criterion='entropy').fit(X, Y)\n",
    "#clf = ensemble.AdaBoostClassifier(n_estimators=50, learning_rate=1.0).fit(X, Y)\n",
    "#clf = ensemble.BaggingClassifier(KNeighborsClassifier(), max_samples=0.5, max_features=0.5).fit(X, Y)\n",
    "\n",
    "\n",
    "#--------------\n",
    "# NAIVE BAYES\n",
    "#--------------\n",
    "#clf = naive_bayes.GaussianNB().fit(X, Y)\n",
    "\n",
    "\n",
    "#----------\n",
    "# TREES\n",
    "#----------\n",
    "#clf = tree.DecisionTreeClassifier().fit(X, Y)\n",
    "\n",
    "#from IPython.display import Image         # VISUALIZANDO EL ARBOL\n",
    "#from sklearn.externals.six import StringIO\n",
    "#import pydot\n",
    "#dot_data = StringIO()\n",
    "#tree.export_graphviz(clf,\n",
    "#                     out_file = dot_data,\n",
    "#                     feature_names = iris.feature_names,\n",
    "#                     max_depth=4)\n",
    "#\n",
    "#graph = pydot.graph_from_dot_data(dot_data.getvalue())\n",
    "#Image(graph.create_png())\n",
    "\n",
    "\n",
    "\n",
    "\n",
    "#---------------\n",
    "# PREDICT DATA\n",
    "#---------------\n",
    "X_pred = clf.predict(X)\n",
    "#X_pred = clf.predict_proba(X)\n",
    "\n",
    "print X_pred\n",
    "#print [1 if iris.target_names[X_pred[ii]] == iris.target_names[iris.target[ii]] else 0 for ii in xrange(len(X_pred))]"
   ]
  },
  {
   "cell_type": "markdown",
   "metadata": {},
   "source": [
    "# PARTITIONING DATA AND PERFORMANCE MEASURES"
   ]
  },
  {
   "cell_type": "markdown",
   "metadata": {},
   "source": [
    "### Performance measures\n",
    "\n",
    "$Sensitivity (TPR) = \\frac{TP}{TP+FN} \\;\\;\\;\\;\\;\\;\\;\\;\\;\\;\\;\\;\\;\\;\\;\\;\\;\\;\\;\\;\\;\\;\\;\\;\\;\\;\\; Specificity (TNR) = \\frac{TN}{TN+FP}$\n",
    "\n",
    "$Precision = \\frac{TP}{TP+FP} \\;\\;\\;\\;\\;\\;\\;\\;\\;\\;\\;\\;\\;\\;\\;\\;\\;\\;\\;\\;\\;\\;\\;\\;\\;\\;\\;\\;\\;\\;\\;\\;\\;\\;\\;\\;\\;\\;\\;\\; Accuracy = \\frac{TP+TN}{P+N}$\n",
    "\n",
    "$F_{1}score = \\frac{2 \\cdot TP}{2 \\cdot TP + TP + FN} \\;\\;\\;\\;\\;\\;\\;\\;\\;\\;\\;\\;\\;\\;\\;\\;\\;\\;\\;\\;\\;\\;\\;\\;\\;\\;\\;\\;\\;\\;\\;\\;\\;\\;\\; UAR = \\frac{1}{\\vert C \\vert} \\cdot \\displaystyle\\sum_{k=1}^{\\vert C \\vert} \\frac{TP_{k}}{TP_{k} + FN_{k}}$ "
   ]
  },
  {
   "cell_type": "markdown",
   "metadata": {},
   "source": [
    "### SPLITTING DATA"
   ]
  },
  {
   "cell_type": "code",
   "execution_count": 9,
   "metadata": {
    "collapsed": false
   },
   "outputs": [
    {
     "name": "stdout",
     "output_type": "stream",
     "text": [
      "-----------\n",
      "TRAIN DATA\n",
      "(90, 4)\n",
      "(90,)\n",
      "-----------\n",
      "TEST DATA\n",
      "(60, 4)\n",
      "(60,)\n"
     ]
    }
   ],
   "source": [
    "from sklearn import cross_validation, metrics\n",
    "\n",
    "# TRAIN: 60% -- TEST: 40%\n",
    "X_train, X_test, Y_train, Y_test = cross_validation.train_test_split(X,\n",
    "                                                                     Y,\n",
    "                                                                     test_size=0.4,\n",
    "                                                                     random_state=0)\n",
    "\n",
    "print('-----------')\n",
    "print('TRAIN DATA')\n",
    "print X_train.shape\n",
    "print Y_train.shape\n",
    "\n",
    "print('-----------')\n",
    "print('TEST DATA')\n",
    "print X_test.shape\n",
    "print Y_test.shape"
   ]
  },
  {
   "cell_type": "code",
   "execution_count": 10,
   "metadata": {
    "collapsed": false
   },
   "outputs": [
    {
     "name": "stdout",
     "output_type": "stream",
     "text": [
      "\n",
      "Accuracy: 0.97\n",
      "\n",
      "CONFUSSION MATRIX\n",
      "[[16  0  0]\n",
      " [ 0 22  1]\n",
      " [ 0  1 20]]\n",
      "\n",
      "\n",
      "Classification report for classifier SVC(C=1, cache_size=200, class_weight=None, coef0=0.0, degree=3, gamma=0.0,\n",
      "  kernel='linear', max_iter=-1, probability=False, random_state=None,\n",
      "  shrinking=True, tol=0.001, verbose=False):\n",
      "\n",
      "             precision    recall  f1-score   support\n",
      "\n",
      "          0       1.00      1.00      1.00        16\n",
      "          1       0.96      0.96      0.96        23\n",
      "          2       0.95      0.95      0.95        21\n",
      "\n",
      "avg / total       0.97      0.97      0.97        60\n",
      "\n",
      "\n"
     ]
    }
   ],
   "source": [
    "clf = svm.SVC(kernel='linear', C=1).fit(X_train, Y_train)\n",
    "\n",
    "#======================\n",
    "# SCORE CALCULATION\n",
    "#======================\n",
    "score = clf.score(X_test, Y_test)\n",
    "\n",
    "print(\"\\nAccuracy: %0.2f\" % (score))\n",
    "\n",
    "\n",
    "\n",
    "#===================\n",
    "# CONFUSSION MATRIX\n",
    "#===================\n",
    "Y_pred = clf.predict(X_test)\n",
    "\n",
    "print('\\nCONFUSSION MATRIX')\n",
    "print metrics.confusion_matrix(Y_test,Y_pred)\n",
    "\n",
    "\n",
    "#=========\n",
    "# REPORT\n",
    "#=========\n",
    "print(\"\\n\\nClassification report for classifier %s:\\n\\n%s\\n\"\n",
    "      %\n",
    "      (clf, metrics.classification_report(Y_test, Y_pred)))"
   ]
  },
  {
   "cell_type": "markdown",
   "metadata": {},
   "source": [
    "### CROSS VALIDATION"
   ]
  },
  {
   "cell_type": "code",
   "execution_count": 11,
   "metadata": {
    "collapsed": false
   },
   "outputs": [
    {
     "name": "stdout",
     "output_type": "stream",
     "text": [
      "[ 0.96666667  1.          0.96666667  0.96666667  1.        ]\n",
      "\n",
      "Accuracy: 0.98 (+/- 0.02)\n"
     ]
    }
   ],
   "source": [
    "scores = cross_validation.cross_val_score(clf,\n",
    "                                          X, \n",
    "                                          Y,\n",
    "                                          cv=5,\n",
    "                                          scoring='accuracy') # scoring: accuracy, f1_weighted. etc\n",
    "\n",
    "print scores\n",
    "print(\"\\nAccuracy: %0.2f (+/- %0.2f)\" % (scores.mean(), scores.std()))"
   ]
  },
  {
   "cell_type": "markdown",
   "metadata": {},
   "source": [
    "### <h5> LEAVE-P-OUT </h5>"
   ]
  },
  {
   "cell_type": "code",
   "execution_count": 12,
   "metadata": {
    "collapsed": false
   },
   "outputs": [
    {
     "name": "stdout",
     "output_type": "stream",
     "text": [
      "-----------\n",
      "LEAVE-P-OUT\n",
      "[2 3 4 5] [0 1]\n",
      "[1 3 4 5] [0 2]\n",
      "[1 2 4 5] [0 3]\n",
      "[1 2 3 5] [0 4]\n",
      "[1 2 3 4] [0 5]\n",
      "[0 3 4 5] [1 2]\n",
      "[0 2 4 5] [1 3]\n",
      "[0 2 3 5] [1 4]\n",
      "[0 2 3 4] [1 5]\n",
      "[0 1 4 5] [2 3]\n",
      "[0 1 3 5] [2 4]\n",
      "[0 1 3 4] [2 5]\n",
      "[0 1 2 5] [3 4]\n",
      "[0 1 2 4] [3 5]\n",
      "[0 1 2 3] [4 5]\n"
     ]
    }
   ],
   "source": [
    "lpo = cross_validation.LeavePOut(6, p=2)\n",
    "print('-----------')\n",
    "print('LEAVE-P-OUT')\n",
    "for train, test in lpo:\n",
    "    print(\"%s %s\" % (train, test))"
   ]
  },
  {
   "cell_type": "code",
   "execution_count": 13,
   "metadata": {
    "collapsed": false
   },
   "outputs": [
    {
     "name": "stdout",
     "output_type": "stream",
     "text": [
      "===========\n",
      "   TEST   \n",
      "===========\n",
      "\n",
      "SCORE: 1.000000\n",
      "\n",
      "ACCURACY: 1.000000 +/- 0.000000\n",
      "\n",
      "UAR: 1.000000 +/- 0.000000\n",
      "\n"
     ]
    },
    {
     "name": "stderr",
     "output_type": "stream",
     "text": [
      "-c:48: RuntimeWarning: invalid value encountered in divide\n"
     ]
    }
   ],
   "source": [
    "C = iris.target_names\n",
    "#C = digits.target_name\n",
    "#C = CGM['target']\n",
    "\n",
    "SCORE = []\n",
    "UAR = []\n",
    "\n",
    "loo = cross_validation.LeavePOut(len(X),p=1)\n",
    "\n",
    "for train, test in loo:\n",
    "    \n",
    "    X_train = X[train,:]\n",
    "    Y_train = Y[train]\n",
    "    \n",
    "    X_test = X[test,:]\n",
    "    Y_test = Y[test]\n",
    "    \n",
    "    #----------------------------------------------\n",
    "    # PREPROCESSING?? --> i.e. mean=0.0 - var=1.0\n",
    "    #----------------------------------------------\n",
    "    \n",
    "    \n",
    "    #======================\n",
    "    # TRAIN SVM\n",
    "    #======================\n",
    "    clf.fit(X_train,Y_train)\n",
    "    \n",
    "    \n",
    "    #======================\n",
    "    # SVM PREDICTION\n",
    "    #======================\n",
    "    Y_pred = clf.predict(X_test)\n",
    "    \n",
    "    \n",
    "    #======================\n",
    "    # SCORE CALCULATION\n",
    "    #======================\n",
    "    score = clf.score(X_test, Y_test)\n",
    "    \n",
    "    #===============================\n",
    "    # CONFUSSION MATRIX CALCULATION\n",
    "    #===============================\n",
    "    M = np.float64(metrics.confusion_matrix(Y_test,Y_pred),labels=C)\n",
    "    \n",
    "    #===============================\n",
    "    # UAR CALCULATION\n",
    "    #===============================\n",
    "    uar = np.diag(M)/np.sum(M,1)\n",
    "    \n",
    "    #===============================\n",
    "    # SAVE MEASURES\n",
    "    #===============================\n",
    "    SCORE.append(score)\n",
    "    UAR.append(uar)\n",
    "    \n",
    "                \n",
    "#========================\n",
    "# REPORT\n",
    "#========================\n",
    "print '==========='\n",
    "print '   TEST   '\n",
    "print '===========\\n'\n",
    "print('SCORE: %.6f\\n') % (score.flatten())\n",
    "print('ACCURACY: %.6f +/- %.6f\\n') % (score.mean(), score.std())\n",
    "print('UAR: %.6f +/- %.6f\\n') % (np.mean(uar),np.std(uar))"
   ]
  },
  {
   "cell_type": "markdown",
   "metadata": {},
   "source": [
    "<h5> k-folding </h5>"
   ]
  },
  {
   "cell_type": "code",
   "execution_count": 14,
   "metadata": {
    "collapsed": false
   },
   "outputs": [
    {
     "name": "stdout",
     "output_type": "stream",
     "text": [
      "[ 1.          1.          0.86666667  0.96666667  0.86206897]\n",
      "\n",
      "Accuracy: 0.94 (+/- 0.06)\n"
     ]
    }
   ],
   "source": [
    "kf = cross_validation.KFold(len(X_train), n_folds=5)\n",
    "# skf = cross_validation.StratifiedKFold(X_train,5)\n",
    "# bkf = balanced_cross_validation(X_train,5)\n",
    "\n",
    "\n",
    "scores = cross_validation.cross_val_score(clf,\n",
    "                                          X, \n",
    "                                          Y,\n",
    "                                          cv=kf,\n",
    "                                          scoring='accuracy') # scoring: accuracy, f1_weighted. etc\n",
    "\n",
    "print scores\n",
    "print(\"\\nAccuracy: %0.2f (+/- %0.2f)\" % (scores.mean(), scores.std()))"
   ]
  },
  {
   "cell_type": "markdown",
   "metadata": {},
   "source": [
    "<hr>"
   ]
  },
  {
   "cell_type": "markdown",
   "metadata": {},
   "source": [
    "# OPTIONAL"
   ]
  },
  {
   "cell_type": "markdown",
   "metadata": {},
   "source": [
    "### GRID SEARCH: Searching for estimator parameters\n",
    "\n",
    "A search consists of:\n",
    "\n",
    "- an estimator (regressor or classifier such as sklearn.svm.SVC())\n",
    "- a parameter space\n",
    "- a method for searching or sampling candidates\n",
    "- a cross-validation scheme\n",
    "- a score function\n",
    "\n",
    "Grid search procedure can be combined with cross validation for a more robust parameter selection."
   ]
  },
  {
   "cell_type": "code",
   "execution_count": 15,
   "metadata": {
    "collapsed": false
   },
   "outputs": [
    {
     "name": "stdout",
     "output_type": "stream",
     "text": [
      "Best parameters set found on development set:\n",
      "\n",
      "{'kernel': 'linear', 'C': 1}\n",
      "\n",
      "Grid scores on development set:\n",
      "0.960 (+/-0.016) for {'kernel': 'linear', 'C': 0.1}\n",
      "0.953 (+/-0.024) for {'kernel': 'rbf', 'C': 0.1}\n",
      "0.980 (+/-0.016) for {'kernel': 'linear', 'C': 1}\n",
      "0.973 (+/-0.009) for {'kernel': 'rbf', 'C': 1}\n",
      "0.973 (+/-0.037) for {'kernel': 'linear', 'C': 10}\n",
      "0.980 (+/-0.016) for {'kernel': 'rbf', 'C': 10}\n",
      "0.967 (+/-0.033) for {'kernel': 'linear', 'C': 100}\n",
      "0.960 (+/-0.042) for {'kernel': 'rbf', 'C': 100}\n"
     ]
    }
   ],
   "source": [
    "from sklearn import grid_search\n",
    "\n",
    "parameters = {'kernel':['linear','rbf'], 'C':[0.1,1,10,100]}\n",
    "\n",
    "#parameters = [\n",
    "#  {'C': [1, 10, 100, 1000], 'kernel': ['linear']},\n",
    "#  {'C': [1, 10, 100, 1000], 'gamma': [0.001, 0.0001], 'kernel': ['rbf']},\n",
    "# ]\n",
    "\n",
    "clf = grid_search.GridSearchCV(svm.SVC(cache_size=500),\n",
    "                               parameters)\n",
    "\n",
    "clf.fit(X, Y)\n",
    "\n",
    "print(\"Best parameters set found on development set:\\n\")\n",
    "\n",
    "print(clf.best_params_)\n",
    "\n",
    "print(\"\\nGrid scores on development set:\")\n",
    "\n",
    "for params, mean_score, scores in clf.grid_scores_:\n",
    "    print(\"%0.3f (+/-%0.03f) for %r\"\n",
    "          %\n",
    "          (mean_score, scores.std(), params))"
   ]
  },
  {
   "cell_type": "markdown",
   "metadata": {},
   "source": [
    "### MODEL PERSISTENCE\n",
    "\n",
    "It is possible to save a model in the scikit by using Python’s built-in persistence model, namely pickle:"
   ]
  },
  {
   "cell_type": "code",
   "execution_count": 16,
   "metadata": {
    "collapsed": false
   },
   "outputs": [
    {
     "name": "stdout",
     "output_type": "stream",
     "text": [
      "Predicted value: y = [0]\n",
      "\n",
      "Unavailable model. y = ???\n",
      "\n",
      "Predicted value: z = [0]\n",
      "\n"
     ]
    }
   ],
   "source": [
    "from sklearn import datasets\n",
    "\n",
    "clf = svm.SVC()\n",
    "clf.fit(X, Y)\n",
    "y = clf.predict(X[0:1])\n",
    "\n",
    "print(('Predicted value: y = %s\\n')%(y))\n",
    "\n",
    "#SVC(C=1.0, cache_size=200, class_weight=None, coef0=0.0, \\\n",
    "#    decision_function_shape=None, degree=3, gamma='auto', \\\n",
    "#    kernel='rbf', max_iter=-1, probability=False, \\\n",
    "#    random_state=None, shrinking=True,  tol=0.001, verbose=False)\n",
    "\n",
    "import cPickle as pickle\n",
    "#-----------------------\n",
    "# SAVE MODEL\n",
    "#-----------------------\n",
    "with open('model.pkl', 'wb') as fp:\n",
    "    pickle.dump(clf, fp)\n",
    "\n",
    "\n",
    "#-----------------------\n",
    "# DELETE MODEL\n",
    "#-----------------------\n",
    "del clf\n",
    "\n",
    "try:\n",
    "    y = clf.predict(X[0:1])\n",
    "    print(('Predicted value: y = %s\\n')%(y))\n",
    "except:\n",
    "    print('Unavailable model. y = ???\\n')\n",
    "\n",
    "\n",
    "#-----------------------\n",
    "# LOAD MODEL\n",
    "#-----------------------\n",
    "with open('model.pkl', 'rb') as fp:\n",
    "    clf2 = pickle.load(fp)\n",
    "\n",
    "z = clf2.predict(X[0:1])\n",
    "\n",
    "print(('Predicted value: z = %s\\n')%(z))"
   ]
  },
  {
   "cell_type": "markdown",
   "metadata": {},
   "source": [
    "<hr>"
   ]
  },
  {
   "cell_type": "markdown",
   "metadata": {},
   "source": [
    "# EXAMPLE: DIGITS RECOGNITION (MNIST)"
   ]
  },
  {
   "cell_type": "code",
   "execution_count": 17,
   "metadata": {
    "collapsed": false
   },
   "outputs": [
    {
     "name": "stdout",
     "output_type": "stream",
     "text": [
      "Classification report for classifier SVC(C=1.0, cache_size=200, class_weight=None, coef0=0.0, degree=3,\n",
      "  gamma=0.001, kernel='rbf', max_iter=-1, probability=False,\n",
      "  random_state=None, shrinking=True, tol=0.001, verbose=False):\n",
      "             precision    recall  f1-score   support\n",
      "\n",
      "          0       1.00      0.99      0.99        88\n",
      "          1       0.99      0.97      0.98        91\n",
      "          2       0.99      0.99      0.99        86\n",
      "          3       0.98      0.87      0.92        91\n",
      "          4       0.99      0.96      0.97        92\n",
      "          5       0.95      0.97      0.96        91\n",
      "          6       0.99      0.99      0.99        91\n",
      "          7       0.96      0.99      0.97        89\n",
      "          8       0.94      1.00      0.97        88\n",
      "          9       0.93      0.98      0.95        92\n",
      "\n",
      "avg / total       0.97      0.97      0.97       899\n",
      "\n",
      "\n",
      "Confusion matrix:\n",
      "[[87  0  0  0  1  0  0  0  0  0]\n",
      " [ 0 88  1  0  0  0  0  0  1  1]\n",
      " [ 0  0 85  1  0  0  0  0  0  0]\n",
      " [ 0  0  0 79  0  3  0  4  5  0]\n",
      " [ 0  0  0  0 88  0  0  0  0  4]\n",
      " [ 0  0  0  0  0 88  1  0  0  2]\n",
      " [ 0  1  0  0  0  0 90  0  0  0]\n",
      " [ 0  0  0  0  0  1  0 88  0  0]\n",
      " [ 0  0  0  0  0  0  0  0 88  0]\n",
      " [ 0  0  0  1  0  1  0  0  0 90]]\n"
     ]
    },
    {
     "data": {
      "image/png": "[encoded data removed]",
      "text/plain": [
       "<matplotlib.figure.Figure at 0x7f0d0aaeae50>"
      ]
     },
     "metadata": {},
     "output_type": "display_data"
    }
   ],
   "source": [
    "# Author: Gael Varoquaux <gael dot varoquaux at normalesup dot org>\n",
    "# License: BSD 3 clause\n",
    "\n",
    "# Standard scientific Python imports\n",
    "import matplotlib.pyplot as plt\n",
    "\n",
    "# Import datasets, classifiers and performance metrics\n",
    "from sklearn import datasets, svm, metrics\n",
    "\n",
    "# The digits dataset\n",
    "digits = datasets.load_digits()\n",
    "\n",
    "#-------------------------\n",
    "# ¿APLICAR NORMALIZACION?\n",
    "#-------------------------\n",
    "\n",
    "\n",
    "# The data that we are interested in is made of 8x8 images of digits, let's\n",
    "# have a look at the first 3 images, stored in the `images` attribute of the\n",
    "# dataset.  If we were working from image files, we could load them using\n",
    "# pylab.imread.  Note that each image must have the same size. For these\n",
    "# images, we know which digit they represent: it is given in the 'target' of\n",
    "# the dataset.\n",
    "images_and_labels = list(zip(digits.images, digits.target))\n",
    "for index, (image, label) in enumerate(images_and_labels[:4]):\n",
    "    plt.subplot(2, 4, index + 1)\n",
    "    plt.axis('off')\n",
    "    plt.imshow(image, cmap=plt.cm.gray_r, interpolation='nearest')\n",
    "    plt.title('Training: %i' % label)\n",
    "\n",
    "# To apply a classifier on this data, we need to flatten the image, to\n",
    "# turn the data in a (samples, feature) matrix:\n",
    "n_samples = len(digits.images)\n",
    "data = digits.images.reshape((n_samples, -1))\n",
    "\n",
    "# Create a classifier: a support vector classifier\n",
    "clf = svm.SVC(gamma=0.001)\n",
    "\n",
    "# We learn the digits on the first half of the digits\n",
    "clf.fit(data[:n_samples / 2], digits.target[:n_samples / 2])\n",
    "\n",
    "# Now predict the value of the digit on the second half:\n",
    "expected = digits.target[n_samples / 2:]\n",
    "predicted = clf.predict(data[n_samples / 2:])\n",
    "\n",
    "print(\"Classification report for classifier %s:\\n%s\\n\"\n",
    "      % (clf, metrics.classification_report(expected, predicted)))\n",
    "\n",
    "print(\"Confusion matrix:\\n%s\" % metrics.confusion_matrix(expected, predicted))\n",
    "\n",
    "images_and_predictions = list(zip(digits.images[n_samples / 2:], predicted))\n",
    "\n",
    "for index, (image, prediction) in enumerate(images_and_predictions[:4]):\n",
    "    plt.subplot(2, 4, index + 5)\n",
    "    plt.axis('off')\n",
    "    plt.imshow(image, cmap=plt.cm.gray_r, interpolation='nearest')\n",
    "    plt.title('Prediction: %i' % prediction)\n",
    "\n",
    "plt.show()"
   ]
  }
 ],
 "metadata": {
  "kernelspec": {
   "display_name": "Python 3",
   "language": "python",
   "name": "python3"
  },
  "language_info": {
   "codemirror_mode": {
    "name": "ipython",
    "version": 3.0
   },
   "file_extension": ".py",
   "mimetype": "text/x-python",
   "name": "python",
   "nbconvert_exporter": "python",
   "pygments_lexer": "ipython3",
   "version": "3.6.0"
  }
 },
 "nbformat": 4,
 "nbformat_minor": 0
}